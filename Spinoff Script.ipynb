{
 "cells": [
  {
   "cell_type": "code",
   "execution_count": 1,
   "metadata": {},
   "outputs": [],
   "source": [
    "import pandas as pd"
   ]
  },
  {
   "cell_type": "code",
   "execution_count": 9,
   "metadata": {},
   "outputs": [],
   "source": [
    "#Create list of tickers that openinsider won't recognize (generally foreign companies\n",
    "#that don't have to report insider transactions, but in some cases firms were either\n",
    "#merged into others, acquired, or went bankrupt)\n",
    "#remove_these_firms = ['ADAPT:ST','0A1R.IL','MCG.JO','CLEGF','RVRA','OTC:EPOKY',\n",
    " #                    'MFGP','MTAGF','IDRSF','ETTYF','TSX:IPCO','ECN.TO','UN01',\n",
    "  #                   'HHDS','RACE','TSSLF','AAMMF','S32.AX','LSE:INDV','LBDRK',\n",
    "   #                  'LTRPB','PGN (BANKRUPT)','HEL:VALMT','ASX:ORA','Munich:OSR',\n",
    "    #                 'Paris:FNAC','CHRYY','POOSF','NTCPF','ENRFF','TSRYY','APEMY','HAWK (LIQUIDATED)']"
   ]
  },
  {
   "cell_type": "code",
   "execution_count": 10,
   "metadata": {},
   "outputs": [],
   "source": [
    "#remove tickers from original list that openinsider won't recognize\n",
    "#tickers = [elem for elem in tickers if elem not in remove_these_firms]"
   ]
  },
  {
   "cell_type": "code",
   "execution_count": 11,
   "metadata": {},
   "outputs": [],
   "source": [
    "#create empty dataframe that will later be populated by the pulled transactions\n",
    "#insider = pd.DataFrame()"
   ]
  },
  {
   "cell_type": "code",
   "execution_count": 12,
   "metadata": {},
   "outputs": [],
   "source": [
    "#loop through companies list and get the last 500 buy or sell transactions#\n",
    "#for ticker in tickers:\n",
    "#    insider1 = pd.read_html(f'http://openinsider.com/screener?s={ticker}&o=&pl=&ph=&ll=&lh=&fd=0&fdr=&td=0&tdr=&fdlyl=&fdlyh=&daysago=&xp=1&xs=1&vl=&vh=&ocl=&och=&sic1=-1&sicl=100&sich=9999&isofficer=1&iscob=1&isceo=1&ispres=1&iscoo=1&iscfo=1&isgc=1&isvp=1&isdirector=1&istenpercent=0&grp=0&nfl=&nfh=&nil=&nih=&nol=&noh=&v2l=&v2h=&oc2l=&oc2h=&sortcol=0&cnt=1000&page=1')\n",
    "#    #change the object that we pull the data from, from the entire page at the link to the third table, which contains the insider trading data\n",
    "#    insider1 = insider1[-3]\n",
    "#   insider = pd.concat([insider,insider1])\n",
    "\n"
   ]
  },
  {
   "cell_type": "code",
   "execution_count": 13,
   "metadata": {},
   "outputs": [],
   "source": [
    "#Removing columns that aren't useful\n",
    "#insider = insider.drop([0,1,'1d','1m','1w','6m'],axis=1)"
   ]
  },
  {
   "cell_type": "code",
   "execution_count": 14,
   "metadata": {},
   "outputs": [],
   "source": [
    "#Confirming that colums were removed\n",
    "#insider.head()"
   ]
  },
  {
   "cell_type": "code",
   "execution_count": 15,
   "metadata": {},
   "outputs": [],
   "source": [
    "#Defining own column names due to difficulty removing filing date and delta (symbol) owned without it\n",
    "#insider.columns = ['Filing Date','Name','Owned','Price','Qty','Ticker','Title','Trade Date','Trade Type','Value','X','Delta Owned']"
   ]
  },
  {
   "cell_type": "code",
   "execution_count": 16,
   "metadata": {},
   "outputs": [],
   "source": [
    "#Drop unnecessary features\n",
    "#insider = insider.drop(['Filing Date','Name','Owned','Title','X','Delta Owned'],axis=1)"
   ]
  },
  {
   "cell_type": "code",
   "execution_count": 17,
   "metadata": {},
   "outputs": [],
   "source": [
    "#insider.head()"
   ]
  },
  {
   "cell_type": "code",
   "execution_count": 18,
   "metadata": {},
   "outputs": [],
   "source": [
    "#Convert value in string format to value in float format\n",
    "#insider['Value No $'] = insider['Value'].str.replace('$','')\n",
    "#insider['Value No $ or Comma'] = insider['Value No $'].str.replace(',','')\n",
    "#insider['Value No $ or Comma'] = insider['Value No $ or Comma'].astype(float)"
   ]
  },
  {
   "cell_type": "code",
   "execution_count": 19,
   "metadata": {},
   "outputs": [],
   "source": [
    "#Clean redundant/transition columns used to convert from string to float\n",
    "#insider = insider.drop(['Value','Value No $'],axis=1)"
   ]
  },
  {
   "cell_type": "code",
   "execution_count": 20,
   "metadata": {},
   "outputs": [],
   "source": [
    "#insider.columns = ['Price','Qty','Ticker','Trade Date','Trade Type','Value']"
   ]
  },
  {
   "cell_type": "code",
   "execution_count": 21,
   "metadata": {},
   "outputs": [],
   "source": [
    "#Sum values based on ticker\n",
    "#pd.set_option('display.max_rows', None)\n",
    "#by_ticker = insider.groupby('Ticker')['Value'].sum()\n",
    "#generate CSV so I can copy-paste these values into the Excel dataset and use IFNA + vlookup to populate the values\n",
    "#by_ticker.to_csv('value_by_ticker.csv')"
   ]
  },
  {
   "cell_type": "code",
   "execution_count": 2,
   "metadata": {},
   "outputs": [],
   "source": [
    "#import dataset for algo\n",
    "real_deal_df = pd.read_csv('Spinoff Situations Full Data.csv')"
   ]
  },
  {
   "cell_type": "code",
   "execution_count": 3,
   "metadata": {},
   "outputs": [
    {
     "data": {
      "text/html": [
       "<div>\n",
       "<style scoped>\n",
       "    .dataframe tbody tr th:only-of-type {\n",
       "        vertical-align: middle;\n",
       "    }\n",
       "\n",
       "    .dataframe tbody tr th {\n",
       "        vertical-align: top;\n",
       "    }\n",
       "\n",
       "    .dataframe thead th {\n",
       "        text-align: right;\n",
       "    }\n",
       "</style>\n",
       "<table border=\"1\" class=\"dataframe\">\n",
       "  <thead>\n",
       "    <tr style=\"text-align: right;\">\n",
       "      <th></th>\n",
       "      <th>Unnamed: 0</th>\n",
       "      <th>Spinoff_Name</th>\n",
       "      <th>Spinoff_Ticker</th>\n",
       "      <th>Sector</th>\n",
       "      <th>P0</th>\n",
       "      <th>1-Year_Return_As_Decimal</th>\n",
       "      <th>Insiders_Buy_Sell_Margin_by_Value</th>\n",
       "      <th>P0_Bucket</th>\n",
       "    </tr>\n",
       "  </thead>\n",
       "  <tbody>\n",
       "    <tr>\n",
       "      <th>0</th>\n",
       "      <td>0</td>\n",
       "      <td>Adapteo</td>\n",
       "      <td>ADAPT:ST</td>\n",
       "      <td>Real Estate</td>\n",
       "      <td>11.99655</td>\n",
       "      <td>1.189817</td>\n",
       "      <td>-1181578.5</td>\n",
       "      <td>Low</td>\n",
       "    </tr>\n",
       "    <tr>\n",
       "      <th>1</th>\n",
       "      <td>1</td>\n",
       "      <td>IAA</td>\n",
       "      <td>IAA</td>\n",
       "      <td>Industrials</td>\n",
       "      <td>43.68000</td>\n",
       "      <td>0.230540</td>\n",
       "      <td>-22050.0</td>\n",
       "      <td>High</td>\n",
       "    </tr>\n",
       "    <tr>\n",
       "      <th>2</th>\n",
       "      <td>2</td>\n",
       "      <td>Corteva</td>\n",
       "      <td>CTVA</td>\n",
       "      <td>Materials</td>\n",
       "      <td>25.43000</td>\n",
       "      <td>0.756193</td>\n",
       "      <td>401419.0</td>\n",
       "      <td>Mid</td>\n",
       "    </tr>\n",
       "    <tr>\n",
       "      <th>3</th>\n",
       "      <td>3</td>\n",
       "      <td>Kontoor Brands</td>\n",
       "      <td>KTB</td>\n",
       "      <td>Consumer Discretionary</td>\n",
       "      <td>15.91000</td>\n",
       "      <td>3.027027</td>\n",
       "      <td>-490071.0</td>\n",
       "      <td>Mid</td>\n",
       "    </tr>\n",
       "    <tr>\n",
       "      <th>4</th>\n",
       "      <td>4</td>\n",
       "      <td>Alcon</td>\n",
       "      <td>ALC</td>\n",
       "      <td>Healthcare</td>\n",
       "      <td>52.54000</td>\n",
       "      <td>0.366388</td>\n",
       "      <td>19723.0</td>\n",
       "      <td>High</td>\n",
       "    </tr>\n",
       "  </tbody>\n",
       "</table>\n",
       "</div>"
      ],
      "text/plain": [
       "   Unnamed: 0    Spinoff_Name Spinoff_Ticker                  Sector  \\\n",
       "0           0         Adapteo       ADAPT:ST             Real Estate   \n",
       "1           1             IAA            IAA             Industrials   \n",
       "2           2         Corteva           CTVA               Materials   \n",
       "3           3  Kontoor Brands            KTB  Consumer Discretionary   \n",
       "4           4           Alcon            ALC              Healthcare   \n",
       "\n",
       "         P0  1-Year_Return_As_Decimal  Insiders_Buy_Sell_Margin_by_Value  \\\n",
       "0  11.99655                  1.189817                         -1181578.5   \n",
       "1  43.68000                  0.230540                           -22050.0   \n",
       "2  25.43000                  0.756193                           401419.0   \n",
       "3  15.91000                  3.027027                          -490071.0   \n",
       "4  52.54000                  0.366388                            19723.0   \n",
       "\n",
       "  P0_Bucket  \n",
       "0       Low  \n",
       "1      High  \n",
       "2       Mid  \n",
       "3       Mid  \n",
       "4      High  "
      ]
     },
     "execution_count": 3,
     "metadata": {},
     "output_type": "execute_result"
    }
   ],
   "source": [
    "real_deal_df.head()"
   ]
  },
  {
   "cell_type": "code",
   "execution_count": 4,
   "metadata": {},
   "outputs": [],
   "source": [
    "#remove unnecessary features\n",
    "real_deal_df = real_deal_df.drop('Unnamed: 0',axis=1)"
   ]
  },
  {
   "cell_type": "code",
   "execution_count": 5,
   "metadata": {},
   "outputs": [
    {
     "data": {
      "text/html": [
       "<div>\n",
       "<style scoped>\n",
       "    .dataframe tbody tr th:only-of-type {\n",
       "        vertical-align: middle;\n",
       "    }\n",
       "\n",
       "    .dataframe tbody tr th {\n",
       "        vertical-align: top;\n",
       "    }\n",
       "\n",
       "    .dataframe thead th {\n",
       "        text-align: right;\n",
       "    }\n",
       "</style>\n",
       "<table border=\"1\" class=\"dataframe\">\n",
       "  <thead>\n",
       "    <tr style=\"text-align: right;\">\n",
       "      <th></th>\n",
       "      <th>Spinoff_Name</th>\n",
       "      <th>Spinoff_Ticker</th>\n",
       "      <th>Sector</th>\n",
       "      <th>P0</th>\n",
       "      <th>1-Year_Return_As_Decimal</th>\n",
       "      <th>Insiders_Buy_Sell_Margin_by_Value</th>\n",
       "      <th>P0_Bucket</th>\n",
       "    </tr>\n",
       "  </thead>\n",
       "  <tbody>\n",
       "    <tr>\n",
       "      <th>0</th>\n",
       "      <td>Adapteo</td>\n",
       "      <td>ADAPT:ST</td>\n",
       "      <td>Real Estate</td>\n",
       "      <td>11.99655</td>\n",
       "      <td>1.189817</td>\n",
       "      <td>-1181578.5</td>\n",
       "      <td>Low</td>\n",
       "    </tr>\n",
       "    <tr>\n",
       "      <th>1</th>\n",
       "      <td>IAA</td>\n",
       "      <td>IAA</td>\n",
       "      <td>Industrials</td>\n",
       "      <td>43.68000</td>\n",
       "      <td>0.230540</td>\n",
       "      <td>-22050.0</td>\n",
       "      <td>High</td>\n",
       "    </tr>\n",
       "    <tr>\n",
       "      <th>2</th>\n",
       "      <td>Corteva</td>\n",
       "      <td>CTVA</td>\n",
       "      <td>Materials</td>\n",
       "      <td>25.43000</td>\n",
       "      <td>0.756193</td>\n",
       "      <td>401419.0</td>\n",
       "      <td>Mid</td>\n",
       "    </tr>\n",
       "    <tr>\n",
       "      <th>3</th>\n",
       "      <td>Kontoor Brands</td>\n",
       "      <td>KTB</td>\n",
       "      <td>Consumer Discretionary</td>\n",
       "      <td>15.91000</td>\n",
       "      <td>3.027027</td>\n",
       "      <td>-490071.0</td>\n",
       "      <td>Mid</td>\n",
       "    </tr>\n",
       "    <tr>\n",
       "      <th>4</th>\n",
       "      <td>Alcon</td>\n",
       "      <td>ALC</td>\n",
       "      <td>Healthcare</td>\n",
       "      <td>52.54000</td>\n",
       "      <td>0.366388</td>\n",
       "      <td>19723.0</td>\n",
       "      <td>High</td>\n",
       "    </tr>\n",
       "  </tbody>\n",
       "</table>\n",
       "</div>"
      ],
      "text/plain": [
       "     Spinoff_Name Spinoff_Ticker                  Sector        P0  \\\n",
       "0         Adapteo       ADAPT:ST             Real Estate  11.99655   \n",
       "1             IAA            IAA             Industrials  43.68000   \n",
       "2         Corteva           CTVA               Materials  25.43000   \n",
       "3  Kontoor Brands            KTB  Consumer Discretionary  15.91000   \n",
       "4           Alcon            ALC              Healthcare  52.54000   \n",
       "\n",
       "   1-Year_Return_As_Decimal  Insiders_Buy_Sell_Margin_by_Value P0_Bucket  \n",
       "0                  1.189817                         -1181578.5       Low  \n",
       "1                  0.230540                           -22050.0      High  \n",
       "2                  0.756193                           401419.0       Mid  \n",
       "3                  3.027027                          -490071.0       Mid  \n",
       "4                  0.366388                            19723.0      High  "
      ]
     },
     "execution_count": 5,
     "metadata": {},
     "output_type": "execute_result"
    }
   ],
   "source": [
    "#Check that features are gone\n",
    "real_deal_df.head()"
   ]
  },
  {
   "cell_type": "code",
   "execution_count": 95,
   "metadata": {},
   "outputs": [],
   "source": [
    "#real_deal_df.columns = ['Spinoff_Name','Spinoff_Ticker','Sector','P0','1-Year_Return_(As Decimal)','Insiders_Purchase_vs_Sell_Margin_by_Value']"
   ]
  },
  {
   "cell_type": "code",
   "execution_count": 96,
   "metadata": {},
   "outputs": [],
   "source": [
    "#real_deal_df.head()"
   ]
  },
  {
   "cell_type": "code",
   "execution_count": 6,
   "metadata": {},
   "outputs": [],
   "source": [
    "import numpy as np"
   ]
  },
  {
   "cell_type": "code",
   "execution_count": 7,
   "metadata": {},
   "outputs": [
    {
     "data": {
      "text/html": [
       "<div>\n",
       "<style scoped>\n",
       "    .dataframe tbody tr th:only-of-type {\n",
       "        vertical-align: middle;\n",
       "    }\n",
       "\n",
       "    .dataframe tbody tr th {\n",
       "        vertical-align: top;\n",
       "    }\n",
       "\n",
       "    .dataframe thead th {\n",
       "        text-align: right;\n",
       "    }\n",
       "</style>\n",
       "<table border=\"1\" class=\"dataframe\">\n",
       "  <thead>\n",
       "    <tr style=\"text-align: right;\">\n",
       "      <th></th>\n",
       "      <th>Spinoff_Name</th>\n",
       "      <th>Spinoff_Ticker</th>\n",
       "      <th>Sector</th>\n",
       "      <th>P0</th>\n",
       "      <th>1-Year_Return_As_Decimal</th>\n",
       "      <th>Insiders_Buy_Sell_Margin_by_Value</th>\n",
       "      <th>P0_Bucket</th>\n",
       "    </tr>\n",
       "  </thead>\n",
       "  <tbody>\n",
       "    <tr>\n",
       "      <th>0</th>\n",
       "      <td>Adapteo</td>\n",
       "      <td>ADAPT:ST</td>\n",
       "      <td>Real Estate</td>\n",
       "      <td>11.99655</td>\n",
       "      <td>1.189817</td>\n",
       "      <td>-1181578.5</td>\n",
       "      <td>Low</td>\n",
       "    </tr>\n",
       "    <tr>\n",
       "      <th>1</th>\n",
       "      <td>IAA</td>\n",
       "      <td>IAA</td>\n",
       "      <td>Industrials</td>\n",
       "      <td>43.68000</td>\n",
       "      <td>0.230540</td>\n",
       "      <td>-22050.0</td>\n",
       "      <td>High</td>\n",
       "    </tr>\n",
       "    <tr>\n",
       "      <th>2</th>\n",
       "      <td>Corteva</td>\n",
       "      <td>CTVA</td>\n",
       "      <td>Materials</td>\n",
       "      <td>25.43000</td>\n",
       "      <td>0.756193</td>\n",
       "      <td>401419.0</td>\n",
       "      <td>Mid</td>\n",
       "    </tr>\n",
       "    <tr>\n",
       "      <th>3</th>\n",
       "      <td>Kontoor Brands</td>\n",
       "      <td>KTB</td>\n",
       "      <td>Consumer Discretionary</td>\n",
       "      <td>15.91000</td>\n",
       "      <td>3.027027</td>\n",
       "      <td>-490071.0</td>\n",
       "      <td>Mid</td>\n",
       "    </tr>\n",
       "    <tr>\n",
       "      <th>4</th>\n",
       "      <td>Alcon</td>\n",
       "      <td>ALC</td>\n",
       "      <td>Healthcare</td>\n",
       "      <td>52.54000</td>\n",
       "      <td>0.366388</td>\n",
       "      <td>19723.0</td>\n",
       "      <td>High</td>\n",
       "    </tr>\n",
       "  </tbody>\n",
       "</table>\n",
       "</div>"
      ],
      "text/plain": [
       "     Spinoff_Name Spinoff_Ticker                  Sector        P0  \\\n",
       "0         Adapteo       ADAPT:ST             Real Estate  11.99655   \n",
       "1             IAA            IAA             Industrials  43.68000   \n",
       "2         Corteva           CTVA               Materials  25.43000   \n",
       "3  Kontoor Brands            KTB  Consumer Discretionary  15.91000   \n",
       "4           Alcon            ALC              Healthcare  52.54000   \n",
       "\n",
       "   1-Year_Return_As_Decimal  Insiders_Buy_Sell_Margin_by_Value P0_Bucket  \n",
       "0                  1.189817                         -1181578.5       Low  \n",
       "1                  0.230540                           -22050.0      High  \n",
       "2                  0.756193                           401419.0       Mid  \n",
       "3                  3.027027                          -490071.0       Mid  \n",
       "4                  0.366388                            19723.0      High  "
      ]
     },
     "execution_count": 7,
     "metadata": {},
     "output_type": "execute_result"
    }
   ],
   "source": [
    "real_deal_df.head()"
   ]
  },
  {
   "cell_type": "code",
   "execution_count": 99,
   "metadata": {},
   "outputs": [
    {
     "data": {
      "text/plain": [
       "Consumer Discretionary    29\n",
       "Energy                    23\n",
       "Industrials               22\n",
       "Real Estate               22\n",
       "Communication Services    19\n",
       "Materials                 18\n",
       "Healthcare                16\n",
       "Financials                13\n",
       "Information Technology    12\n",
       "Consumer Staples           2\n",
       "Utilities                  1\n",
       "Name: Sector, dtype: int64"
      ]
     },
     "execution_count": 99,
     "metadata": {},
     "output_type": "execute_result"
    }
   ],
   "source": [
    "real_deal_df['Sector'].value_counts()"
   ]
  },
  {
   "cell_type": "code",
   "execution_count": 27,
   "metadata": {
    "scrolled": true
   },
   "outputs": [],
   "source": [
    "#real_deal_df[real_deal_df['Insiders_Purchase_vs_Sell_Margin_by_Value'].isna()]"
   ]
  },
  {
   "cell_type": "code",
   "execution_count": 28,
   "metadata": {},
   "outputs": [],
   "source": [
    "#Determine median value of each secto\n",
    "#healthcare_median = real_deal_df[real_deal_df['Sector']=='Healthcare']['Insiders_Purchase_vs_Sell_Margin_by_Value'].median()"
   ]
  },
  {
   "cell_type": "code",
   "execution_count": 29,
   "metadata": {},
   "outputs": [],
   "source": [
    "#real_estate_median = real_deal_df[real_deal_df['Sector']=='Real Estate']['Insiders_Purchase_vs_Sell_Margin_by_Value'].median()"
   ]
  },
  {
   "cell_type": "code",
   "execution_count": 30,
   "metadata": {},
   "outputs": [],
   "source": [
    "#energy_median = real_deal_df[real_deal_df['Sector']=='Energy']['Insiders_Purchase_vs_Sell_Margin_by_Value'].median()"
   ]
  },
  {
   "cell_type": "code",
   "execution_count": 31,
   "metadata": {},
   "outputs": [],
   "source": [
    "#comms_services_median = real_deal_df[real_deal_df['Sector']=='Communication Services']['Insiders_Purchase_vs_Sell_Margin_by_Value'].median()\n",
    "#comms_services_median"
   ]
  },
  {
   "cell_type": "code",
   "execution_count": 32,
   "metadata": {},
   "outputs": [],
   "source": [
    "#industrials_median = real_deal_df[real_deal_df['Sector']=='Industrials']['Insiders_Purchase_vs_Sell_Margin_by_Value'].median()"
   ]
  },
  {
   "cell_type": "code",
   "execution_count": 33,
   "metadata": {},
   "outputs": [],
   "source": [
    "#financials_median = real_deal_df[real_deal_df['Sector']=='Financials']['Insiders_Purchase_vs_Sell_Margin_by_Value'].median()"
   ]
  },
  {
   "cell_type": "code",
   "execution_count": 34,
   "metadata": {},
   "outputs": [],
   "source": [
    "#info_tech_median = real_deal_df[real_deal_df['Sector']=='Information Technology']['Insiders_Purchase_vs_Sell_Margin_by_Value'].median()"
   ]
  },
  {
   "cell_type": "code",
   "execution_count": 35,
   "metadata": {},
   "outputs": [],
   "source": [
    "#cons_disc_median = real_deal_df[real_deal_df['Sector']=='Consumer Discretionary']['Insiders_Purchase_vs_Sell_Margin_by_Value'].median()"
   ]
  },
  {
   "cell_type": "code",
   "execution_count": 36,
   "metadata": {},
   "outputs": [],
   "source": [
    "#cons_staples_median = real_deal_df[real_deal_df['Sector']=='Consumer Staples']['Insiders_Purchase_vs_Sell_Margin_by_Value'].median()"
   ]
  },
  {
   "cell_type": "code",
   "execution_count": 37,
   "metadata": {},
   "outputs": [],
   "source": [
    "#materials_median = real_deal_df[real_deal_df['Sector']=='Materials']['Insiders_Purchase_vs_Sell_Margin_by_Value'].median()"
   ]
  },
  {
   "cell_type": "code",
   "execution_count": 38,
   "metadata": {},
   "outputs": [],
   "source": [
    "#real_deal_df.loc['ADAPT:ST','Insiders Purchase vs Sell Margin by Value'] = real_estate_median\n",
    "#real_estate_median"
   ]
  },
  {
   "cell_type": "code",
   "execution_count": 39,
   "metadata": {},
   "outputs": [],
   "source": [
    "#real_deal_df.loc['HHDS','Insiders Purchase vs Sell Margin by Value'] = real_estate_median"
   ]
  },
  {
   "cell_type": "code",
   "execution_count": 40,
   "metadata": {},
   "outputs": [],
   "source": [
    "#real_deal_df.loc['FSV','Insiders Purchase vs Sell Margin by Value'] = real_estate_median"
   ]
  },
  {
   "cell_type": "code",
   "execution_count": 41,
   "metadata": {},
   "outputs": [],
   "source": [
    "#real_deal_df.loc['BPY','Insiders Purchase vs Sell Margin by Value'] = real_estate_median"
   ]
  },
  {
   "cell_type": "code",
   "execution_count": 42,
   "metadata": {},
   "outputs": [],
   "source": [
    "#real_deal_df = real_deal_df.drop('Insiders Purchase vs Sell Margin by Value',axis=1)"
   ]
  },
  {
   "cell_type": "code",
   "execution_count": 43,
   "metadata": {},
   "outputs": [],
   "source": [
    "#real_deal_df.head()"
   ]
  },
  {
   "cell_type": "code",
   "execution_count": 44,
   "metadata": {},
   "outputs": [],
   "source": [
    "#real_deal_df[(real_deal_df['Insiders_Purchase_vs_Sell_Margin_by_Value'].isna()) & (real_deal_df['Sector']=='Real Estate')]['Insiders_Purchase_vs_Sell_Margin_by_Value']"
   ]
  },
  {
   "cell_type": "code",
   "execution_count": 45,
   "metadata": {},
   "outputs": [],
   "source": [
    "#This worked. This is the method to use\n",
    "#real_deal_df.loc[(real_deal_df['Spinoff_Ticker']=='FSV') | (real_deal_df['Spinoff_Ticker']=='BPY'),'Insiders_Purchase_vs_Sell_Margin_by_Value']=real_estate_median"
   ]
  },
  {
   "cell_type": "code",
   "execution_count": 46,
   "metadata": {},
   "outputs": [],
   "source": [
    "#real_deal_df[real_deal_df['Sector']=='Real Estate']"
   ]
  },
  {
   "cell_type": "code",
   "execution_count": 47,
   "metadata": {},
   "outputs": [],
   "source": [
    "#real_deal_df = real_deal_df.drop(['ADAPT:ST','HHDS','FSV','BPY'])"
   ]
  },
  {
   "cell_type": "code",
   "execution_count": 48,
   "metadata": {},
   "outputs": [],
   "source": [
    "#real_deal_df.tail()"
   ]
  },
  {
   "cell_type": "code",
   "execution_count": 49,
   "metadata": {},
   "outputs": [],
   "source": [
    "#This works better\n",
    "#real_deal_df.loc[(real_deal_df['Sector']=='Communication Services') & (real_deal_df['Insiders_Purchase_vs_Sell_Margin_by_Value'].isna()),'Insiders_Purchase_vs_Sell_Margin_by_Value'] = comms_services_median"
   ]
  },
  {
   "cell_type": "code",
   "execution_count": 50,
   "metadata": {},
   "outputs": [],
   "source": [
    "#real_deal_df[real_deal_df['Sector']=='Communication Services']"
   ]
  },
  {
   "cell_type": "code",
   "execution_count": 51,
   "metadata": {},
   "outputs": [],
   "source": [
    "#Checked to see how much data is still missing\n",
    "#real_deal_df.isna().sum()"
   ]
  },
  {
   "cell_type": "code",
   "execution_count": 52,
   "metadata": {},
   "outputs": [],
   "source": [
    "#real_deal_df.loc[(real_deal_df['Sector']=='Real Estate') & (real_deal_df['Insiders_Purchase_vs_Sell_Margin_by_Value'].isna()),'Insiders_Purchase_vs_Sell_Margin_by_Value'] = real_estate_median"
   ]
  },
  {
   "cell_type": "code",
   "execution_count": 53,
   "metadata": {},
   "outputs": [],
   "source": [
    "#real_deal_df[real_deal_df['Sector']=='Real Estate']"
   ]
  },
  {
   "cell_type": "code",
   "execution_count": 54,
   "metadata": {},
   "outputs": [],
   "source": [
    "#Impute remaining sectors' missing values\n",
    "#real_deal_df.loc[(real_deal_df['Sector']=='Energy') & (real_deal_df['Insiders_Purchase_vs_Sell_Margin_by_Value'].isna()),'Insiders_Purchase_vs_Sell_Margin_by_Value'] = energy_median\n",
    "#real_deal_df.loc[(real_deal_df['Sector']=='Materials') & (real_deal_df['Insiders_Purchase_vs_Sell_Margin_by_Value'].isna()),'Insiders_Purchase_vs_Sell_Margin_by_Value'] = materials_median\n",
    "#real_deal_df.loc[(real_deal_df['Sector']=='Industrials') & (real_deal_df['Insiders_Purchase_vs_Sell_Margin_by_Value'].isna()),'Insiders_Purchase_vs_Sell_Margin_by_Value'] = industrials_median\n",
    "#Used healthcare median for utilities because there was only one utility firm in the dataset. Utilities is a defensive sector, so I made a judgment call on another defensive sector\n",
    "#real_deal_df.loc[(real_deal_df['Sector']=='Utilities') & (real_deal_df['Insiders_Purchase_vs_Sell_Margin_by_Value'].isna()),'Insiders_Purchase_vs_Sell_Margin_by_Value'] = healthcare_median\n",
    "#real_deal_df.loc[(real_deal_df['Sector']=='Healthcare') & (real_deal_df['Insiders_Purchase_vs_Sell_Margin_by_Value'].isna()),'Insiders_Purchase_vs_Sell_Margin_by_Value'] = healthcare_median\n",
    "#real_deal_df.loc[(real_deal_df['Sector']=='Financials') & (real_deal_df['Insiders_Purchase_vs_Sell_Margin_by_Value'].isna()),'Insiders_Purchase_vs_Sell_Margin_by_Value'] = financials_median\n",
    "#real_deal_df.loc[(real_deal_df['Sector']=='Consumer Discretionary') & (real_deal_df['Insiders_Purchase_vs_Sell_Margin_by_Value'].isna()),'Insiders_Purchase_vs_Sell_Margin_by_Value'] = cons_disc_median\n",
    "#real_deal_df.loc[(real_deal_df['Sector']=='Consumer Staples') & (real_deal_df['Insiders_Purchase_vs_Sell_Margin_by_Value'].isna()),'Insiders_Purchase_vs_Sell_Margin_by_Value'] = cons_staples_median\n",
    "#real_deal_df.loc[(real_deal_df['Sector']=='Information Technology') & (real_deal_df['Insiders_Purchase_vs_Sell_Margin_by_Value'].isna()),'Insiders_Purchase_vs_Sell_Margin_by_Value'] = info_tech_median"
   ]
  },
  {
   "cell_type": "code",
   "execution_count": 55,
   "metadata": {},
   "outputs": [],
   "source": [
    "#Check for missing data again\n",
    "#real_deal_df.isna().sum()"
   ]
  },
  {
   "cell_type": "code",
   "execution_count": 56,
   "metadata": {},
   "outputs": [],
   "source": [
    "#real_deal_df[real_deal_df['P0'].isna()]"
   ]
  },
  {
   "cell_type": "code",
   "execution_count": 57,
   "metadata": {},
   "outputs": [],
   "source": [
    "#Create variable for energy median P0\n",
    "#energy_P0_median = real_deal_df[real_deal_df['Sector']=='Energy']['P0'].median()"
   ]
  },
  {
   "cell_type": "code",
   "execution_count": 58,
   "metadata": {},
   "outputs": [],
   "source": [
    "#Impute missing P0 values. All were in the energy sector, so used the energy median P0\n",
    "#real_deal_df['P0'] = real_deal_df['P0'].fillna(energy_P0_median)"
   ]
  },
  {
   "cell_type": "code",
   "execution_count": 59,
   "metadata": {},
   "outputs": [],
   "source": [
    "#No more missing values\n",
    "#real_deal_df.isna().sum()"
   ]
  },
  {
   "cell_type": "code",
   "execution_count": 60,
   "metadata": {},
   "outputs": [],
   "source": [
    "#real_deal_df"
   ]
  },
  {
   "cell_type": "code",
   "execution_count": 61,
   "metadata": {},
   "outputs": [],
   "source": [
    "#Create new, consolidated CSV file\n",
    "#real_deal_df.to_csv('Spinoff Situations Cons.csv')"
   ]
  },
  {
   "cell_type": "code",
   "execution_count": 8,
   "metadata": {},
   "outputs": [],
   "source": [
    "#find 75th, 50th, and 25th percentiles for creating low/mid/high P0 categorical variable\n",
    "q75, q50, q25 = np.percentile(real_deal_df['P0'],[75,50,25])"
   ]
  },
  {
   "cell_type": "code",
   "execution_count": 9,
   "metadata": {},
   "outputs": [],
   "source": [
    "#Find dispersion of P0 data to determine if it's worth it to\n",
    "#create a dummy variable based on statistical distribution\n",
    "#real_deal_df[(real_deal_df['P0'] > q25) & (real_deal_df['P0'] < q75)]['P0'].count()"
   ]
  },
  {
   "cell_type": "code",
   "execution_count": 10,
   "metadata": {},
   "outputs": [],
   "source": [
    "#real_deal_df[(real_deal_df['P0'] < q25) | (real_deal_df['P0'] > q75)]['P0'].count()"
   ]
  },
  {
   "cell_type": "code",
   "execution_count": 11,
   "metadata": {},
   "outputs": [],
   "source": [
    "import seaborn as sns\n",
    "import matplotlib.pyplot as plt\n",
    "%matplotlib inline"
   ]
  },
  {
   "cell_type": "code",
   "execution_count": 10,
   "metadata": {},
   "outputs": [],
   "source": [
    "#qt = QuantileTransformer(n_quantiles=100,output_distribution='normal')"
   ]
  },
  {
   "cell_type": "code",
   "execution_count": 11,
   "metadata": {},
   "outputs": [],
   "source": [
    "#Define function to calculate standard normal distribution\n",
    "#To create distribution of P0 that can be visualized easily\n",
    "#Raw data distribution ranges from .04 to 33,000\n",
    "#mu = sum(real_deal_df['P0']/len(real_deal_df['P0']))\n",
    "#import statistics as st\n",
    "#P0_stdev = st.pstdev(real_deal_df['P0'])\n",
    "#P0_stdev\n",
    "\n",
    "#def std_norm_transform(x):\n",
    " #       st_normed_x = (x - mu) / P0_stdev\n",
    "  #      return st_normed_x"
   ]
  },
  {
   "cell_type": "code",
   "execution_count": 12,
   "metadata": {},
   "outputs": [],
   "source": [
    "#Define function to apply to P0 for splitting into low/medium/high buckets\n",
    "#def buckets(y):\n",
    " #   if y <= q25:\n",
    "  #      return(\"Low\")\n",
    "   # elif (y > q25) & (y <= q75):\n",
    "    #    return(\"Mid\")\n",
    "    #else:\n",
    "     #   return(\"High\")"
   ]
  },
  {
   "cell_type": "code",
   "execution_count": 13,
   "metadata": {},
   "outputs": [],
   "source": [
    "#Tried normalizing the P0 data because it had extremely high dispersion that screwed up the visuals. It didn't work\n",
    "#real_deal_df['Std Norm Result'] = real_deal_df['P0'].apply(lambda x:std_norm_transform(x))"
   ]
  },
  {
   "cell_type": "code",
   "execution_count": 70,
   "metadata": {},
   "outputs": [],
   "source": [
    "#real_deal_df.head()"
   ]
  },
  {
   "cell_type": "code",
   "execution_count": 115,
   "metadata": {},
   "outputs": [],
   "source": [
    "#Create the buckets column\n",
    "#real_deal_df['P0 Bucket'] = real_deal_df['P0'].apply(lambda x:buckets(x))"
   ]
  },
  {
   "cell_type": "code",
   "execution_count": 77,
   "metadata": {},
   "outputs": [],
   "source": [
    "#Check that buckets populated\n",
    "#real_deal_df.head()"
   ]
  },
  {
   "cell_type": "code",
   "execution_count": 71,
   "metadata": {},
   "outputs": [],
   "source": [
    "#second_deal_df = real_deal_df[['Spinoff_Name','Spinoff_Ticker','Sector','Std Norm Result']]"
   ]
  },
  {
   "cell_type": "code",
   "execution_count": 72,
   "metadata": {},
   "outputs": [],
   "source": [
    "#second_deal_df.head()"
   ]
  },
  {
   "cell_type": "code",
   "execution_count": 73,
   "metadata": {},
   "outputs": [],
   "source": [
    "#sns.distplot(second_deal_df['Std Norm Result'])"
   ]
  },
  {
   "cell_type": "code",
   "execution_count": 78,
   "metadata": {},
   "outputs": [],
   "source": [
    "#real_deal_df[real_deal_df['P0'] == real_deal_df['P0'].max()]"
   ]
  },
  {
   "cell_type": "code",
   "execution_count": 12,
   "metadata": {},
   "outputs": [],
   "source": [
    "#Drop Phio as the outlier messing up the visuals\n",
    "real_deal_df = real_deal_df.drop([154])"
   ]
  },
  {
   "cell_type": "code",
   "execution_count": 8,
   "metadata": {},
   "outputs": [
    {
     "data": {
      "text/plain": [
       "Text(0,0.5,'Initial Price')"
      ]
     },
     "execution_count": 8,
     "metadata": {},
     "output_type": "execute_result"
    },
    {
     "data": {
      "image/png": "[encoded data removed]",
      "text/plain": [
       "<Figure size 1440x576 with 1 Axes>"
      ]
     },
     "metadata": {
      "needs_background": "light"
     },
     "output_type": "display_data"
    }
   ],
   "source": [
    "#Visually gauge relationship between 1-year return and initial price.\n",
    "#Very weak, but want some concrete numbers to quantify this\n",
    "plt.figure(figsize=(20,8))\n",
    "sns.scatterplot(real_deal_df['1-Year_Return_As_Decimal'],real_deal_df['P0'])\n",
    "plt.title('Correlation Between Returns and Initial Prices',fontsize=25)\n",
    "plt.xticks(fontsize=15)\n",
    "plt.yticks(fontsize=15)\n",
    "plt.xlabel(fontsize=20,s=\"1-Year Return\")\n",
    "plt.ylabel(fontsize=20,s='Initial Price',)"
   ]
  },
  {
   "cell_type": "code",
   "execution_count": 9,
   "metadata": {},
   "outputs": [
    {
     "data": {
      "text/plain": [
       "<matplotlib.axes._subplots.AxesSubplot at 0x23f0324d278>"
      ]
     },
     "execution_count": 9,
     "metadata": {},
     "output_type": "execute_result"
    },
    {
     "data": {
      "image/png": "[encoded data removed]",
      "text/plain": [
       "<Figure size 1080x504 with 1 Axes>"
      ]
     },
     "metadata": {
      "needs_background": "light"
     },
     "output_type": "display_data"
    }
   ],
   "source": [
    "#Visually gauge dataset balance between buckets\n",
    "plt.figure(figsize=(15,7))\n",
    "plt.title('Count of Investments in Each Price Bucket',fontsize=17)\n",
    "plt.xticks(fontsize=13)\n",
    "bucket_plot = sns.countplot(real_deal_df['P0_Bucket'])\n",
    "plt.xticks(fontsize=15)\n",
    "for each in bucket_plot.patches:\n",
    "    bucket_plot.annotate(format(each.get_height()),\n",
    "                         (each.get_x() + each.get_width() / 2,\n",
    "                         each.get_height()),ha='center',va='center',\n",
    "                         size=20,xytext=(0,-12),\n",
    "                         textcoords='offset points')\n",
    "bucket_plot"
   ]
  },
  {
   "cell_type": "code",
   "execution_count": 10,
   "metadata": {},
   "outputs": [
    {
     "data": {
      "text/plain": [
       "<matplotlib.axes._subplots.AxesSubplot at 0x23f02787be0>"
      ]
     },
     "execution_count": 10,
     "metadata": {},
     "output_type": "execute_result"
    },
    {
     "data": {
      "image/png": "[encoded data removed]",
      "text/plain": [
       "<Figure size 1440x720 with 1 Axes>"
      ]
     },
     "metadata": {
      "needs_background": "light"
     },
     "output_type": "display_data"
    }
   ],
   "source": [
    "#order these from greatest to least\n",
    "plt.figure(figsize=(20,10))\n",
    "plt.title('Count of Spinoffs in Each Sector',fontsize=25)\n",
    "plots = real_deal_df['Sector'].value_counts().plot(kind=\"bar\")\n",
    "plt.xticks(fontsize=15,rotation=60)\n",
    "plt.yticks(fontsize=14)\n",
    "for bar in plots.patches:\n",
    "    plots.annotate(format(bar.get_height()),\n",
    "                   (bar.get_x() + bar.get_width() / 2,\n",
    "                   bar.get_height()),ha='center',va='center',\n",
    "                   size=20, xytext=(0,10),\n",
    "                   textcoords='offset points')\n",
    "plots"
   ]
  },
  {
   "cell_type": "code",
   "execution_count": 25,
   "metadata": {},
   "outputs": [
    {
     "data": {
      "text/html": [
       "<div>\n",
       "<style scoped>\n",
       "    .dataframe tbody tr th:only-of-type {\n",
       "        vertical-align: middle;\n",
       "    }\n",
       "\n",
       "    .dataframe tbody tr th {\n",
       "        vertical-align: top;\n",
       "    }\n",
       "\n",
       "    .dataframe thead th {\n",
       "        text-align: right;\n",
       "    }\n",
       "</style>\n",
       "<table border=\"1\" class=\"dataframe\">\n",
       "  <thead>\n",
       "    <tr style=\"text-align: right;\">\n",
       "      <th></th>\n",
       "      <th>1-Year_Return_As_Decimal</th>\n",
       "      <th>P0</th>\n",
       "    </tr>\n",
       "  </thead>\n",
       "  <tbody>\n",
       "    <tr>\n",
       "      <th>1-Year_Return_As_Decimal</th>\n",
       "      <td>1.000000</td>\n",
       "      <td>-0.096235</td>\n",
       "    </tr>\n",
       "    <tr>\n",
       "      <th>P0</th>\n",
       "      <td>-0.096235</td>\n",
       "      <td>1.000000</td>\n",
       "    </tr>\n",
       "  </tbody>\n",
       "</table>\n",
       "</div>"
      ],
      "text/plain": [
       "                          1-Year_Return_As_Decimal        P0\n",
       "1-Year_Return_As_Decimal                  1.000000 -0.096235\n",
       "P0                                       -0.096235  1.000000"
      ]
     },
     "execution_count": 25,
     "metadata": {},
     "output_type": "execute_result"
    }
   ],
   "source": [
    "#Very weak correlation between initial price and return\n",
    "real_deal_df[['1-Year_Return_As_Decimal','P0']].corr()"
   ]
  },
  {
   "cell_type": "code",
   "execution_count": 90,
   "metadata": {},
   "outputs": [
    {
     "data": {
      "text/plain": [
       "(array([-3.0e+09, -2.5e+09, -2.0e+09, -1.5e+09, -1.0e+09, -5.0e+08,\n",
       "         0.0e+00,  5.0e+08]), <a list of 8 Text yticklabel objects>)"
      ]
     },
     "execution_count": 90,
     "metadata": {},
     "output_type": "execute_result"
    },
    {
     "data": {
      "image/png": "[encoded data removed]",
      "text/plain": [
       "<Figure size 1440x576 with 1 Axes>"
      ]
     },
     "metadata": {
      "needs_background": "light"
     },
     "output_type": "display_data"
    }
   ],
   "source": [
    "plt.figure(figsize=(20,8))\n",
    "sns.scatterplot(real_deal_df['1-Year_Return_As_Decimal'],real_deal_df['Insiders_Buy_Sell_Margin_by_Value'])\n",
    "plt.title('Correlation Between Returns and Insider Trading',fontsize=25)\n",
    "plt.xlabel(s='1-Year Return',fontsize=18)\n",
    "plt.ylabel('Insider Trading',fontsize=18)\n",
    "plt.xticks(fontsize=14)\n",
    "plt.yticks(fontsize=14)"
   ]
  },
  {
   "cell_type": "code",
   "execution_count": 109,
   "metadata": {},
   "outputs": [
    {
     "data": {
      "text/html": [
       "<div>\n",
       "<style scoped>\n",
       "    .dataframe tbody tr th:only-of-type {\n",
       "        vertical-align: middle;\n",
       "    }\n",
       "\n",
       "    .dataframe tbody tr th {\n",
       "        vertical-align: top;\n",
       "    }\n",
       "\n",
       "    .dataframe thead th {\n",
       "        text-align: right;\n",
       "    }\n",
       "</style>\n",
       "<table border=\"1\" class=\"dataframe\">\n",
       "  <thead>\n",
       "    <tr style=\"text-align: right;\">\n",
       "      <th></th>\n",
       "      <th>1-Year_Return_As_Decimal</th>\n",
       "      <th>Insiders_Buy_Sell_Margin_by_Value</th>\n",
       "    </tr>\n",
       "  </thead>\n",
       "  <tbody>\n",
       "    <tr>\n",
       "      <th>1-Year_Return_As_Decimal</th>\n",
       "      <td>1.000000</td>\n",
       "      <td>-0.046893</td>\n",
       "    </tr>\n",
       "    <tr>\n",
       "      <th>Insiders_Buy_Sell_Margin_by_Value</th>\n",
       "      <td>-0.046893</td>\n",
       "      <td>1.000000</td>\n",
       "    </tr>\n",
       "  </tbody>\n",
       "</table>\n",
       "</div>"
      ],
      "text/plain": [
       "                                   1-Year_Return_As_Decimal  \\\n",
       "1-Year_Return_As_Decimal                           1.000000   \n",
       "Insiders_Buy_Sell_Margin_by_Value                 -0.046893   \n",
       "\n",
       "                                   Insiders_Buy_Sell_Margin_by_Value  \n",
       "1-Year_Return_As_Decimal                                   -0.046893  \n",
       "Insiders_Buy_Sell_Margin_by_Value                           1.000000  "
      ]
     },
     "execution_count": 109,
     "metadata": {},
     "output_type": "execute_result"
    }
   ],
   "source": [
    "#Also a very weak correlation.\n",
    "real_deal_df[['1-Year_Return_As_Decimal','Insiders_Buy_Sell_Margin_by_Value']].corr()"
   ]
  },
  {
   "cell_type": "code",
   "execution_count": 110,
   "metadata": {},
   "outputs": [
    {
     "data": {
      "text/html": [
       "<div>\n",
       "<style scoped>\n",
       "    .dataframe tbody tr th:only-of-type {\n",
       "        vertical-align: middle;\n",
       "    }\n",
       "\n",
       "    .dataframe tbody tr th {\n",
       "        vertical-align: top;\n",
       "    }\n",
       "\n",
       "    .dataframe thead th {\n",
       "        text-align: right;\n",
       "    }\n",
       "</style>\n",
       "<table border=\"1\" class=\"dataframe\">\n",
       "  <thead>\n",
       "    <tr style=\"text-align: right;\">\n",
       "      <th></th>\n",
       "      <th>Spinoff_Name</th>\n",
       "      <th>Spinoff_Ticker</th>\n",
       "      <th>Sector</th>\n",
       "      <th>P0</th>\n",
       "      <th>1-Year_Return_As_Decimal</th>\n",
       "      <th>Insiders_Buy_Sell_Margin_by_Value</th>\n",
       "      <th>P0_Bucket</th>\n",
       "    </tr>\n",
       "  </thead>\n",
       "  <tbody>\n",
       "    <tr>\n",
       "      <th>0</th>\n",
       "      <td>Adapteo</td>\n",
       "      <td>ADAPT:ST</td>\n",
       "      <td>Real Estate</td>\n",
       "      <td>11.99655</td>\n",
       "      <td>1.189817</td>\n",
       "      <td>-1181578.5</td>\n",
       "      <td>Low</td>\n",
       "    </tr>\n",
       "    <tr>\n",
       "      <th>1</th>\n",
       "      <td>IAA</td>\n",
       "      <td>IAA</td>\n",
       "      <td>Industrials</td>\n",
       "      <td>43.68000</td>\n",
       "      <td>0.230540</td>\n",
       "      <td>-22050.0</td>\n",
       "      <td>High</td>\n",
       "    </tr>\n",
       "    <tr>\n",
       "      <th>2</th>\n",
       "      <td>Corteva</td>\n",
       "      <td>CTVA</td>\n",
       "      <td>Materials</td>\n",
       "      <td>25.43000</td>\n",
       "      <td>0.756193</td>\n",
       "      <td>401419.0</td>\n",
       "      <td>Mid</td>\n",
       "    </tr>\n",
       "    <tr>\n",
       "      <th>3</th>\n",
       "      <td>Kontoor Brands</td>\n",
       "      <td>KTB</td>\n",
       "      <td>Consumer Discretionary</td>\n",
       "      <td>15.91000</td>\n",
       "      <td>3.027027</td>\n",
       "      <td>-490071.0</td>\n",
       "      <td>Mid</td>\n",
       "    </tr>\n",
       "    <tr>\n",
       "      <th>4</th>\n",
       "      <td>Alcon</td>\n",
       "      <td>ALC</td>\n",
       "      <td>Healthcare</td>\n",
       "      <td>52.54000</td>\n",
       "      <td>0.366388</td>\n",
       "      <td>19723.0</td>\n",
       "      <td>High</td>\n",
       "    </tr>\n",
       "  </tbody>\n",
       "</table>\n",
       "</div>"
      ],
      "text/plain": [
       "     Spinoff_Name Spinoff_Ticker                  Sector        P0  \\\n",
       "0         Adapteo       ADAPT:ST             Real Estate  11.99655   \n",
       "1             IAA            IAA             Industrials  43.68000   \n",
       "2         Corteva           CTVA               Materials  25.43000   \n",
       "3  Kontoor Brands            KTB  Consumer Discretionary  15.91000   \n",
       "4           Alcon            ALC              Healthcare  52.54000   \n",
       "\n",
       "   1-Year_Return_As_Decimal  Insiders_Buy_Sell_Margin_by_Value P0_Bucket  \n",
       "0                  1.189817                         -1181578.5       Low  \n",
       "1                  0.230540                           -22050.0      High  \n",
       "2                  0.756193                           401419.0       Mid  \n",
       "3                  3.027027                          -490071.0       Mid  \n",
       "4                  0.366388                            19723.0      High  "
      ]
     },
     "execution_count": 110,
     "metadata": {},
     "output_type": "execute_result"
    }
   ],
   "source": [
    "real_deal_df.head()"
   ]
  },
  {
   "cell_type": "code",
   "execution_count": 111,
   "metadata": {},
   "outputs": [],
   "source": [
    "#So we know now that the initial price and insider trading margin are poor drivers to use for predictng good returns\n",
    "#Still going to run a logistic regression model to see if the sector tells us anything, but this data simply might be worth\n",
    "#very little for predicting spinoff investment success"
   ]
  },
  {
   "cell_type": "code",
   "execution_count": 26,
   "metadata": {},
   "outputs": [],
   "source": [
    "#Create dummy variable for sector\n",
    "sector_dummy = pd.get_dummies(real_deal_df['Sector'],drop_first=True)"
   ]
  },
  {
   "cell_type": "code",
   "execution_count": 27,
   "metadata": {},
   "outputs": [
    {
     "data": {
      "text/html": [
       "<div>\n",
       "<style scoped>\n",
       "    .dataframe tbody tr th:only-of-type {\n",
       "        vertical-align: middle;\n",
       "    }\n",
       "\n",
       "    .dataframe tbody tr th {\n",
       "        vertical-align: top;\n",
       "    }\n",
       "\n",
       "    .dataframe thead th {\n",
       "        text-align: right;\n",
       "    }\n",
       "</style>\n",
       "<table border=\"1\" class=\"dataframe\">\n",
       "  <thead>\n",
       "    <tr style=\"text-align: right;\">\n",
       "      <th></th>\n",
       "      <th>Consumer Discretionary</th>\n",
       "      <th>Consumer Staples</th>\n",
       "      <th>Energy</th>\n",
       "      <th>Financials</th>\n",
       "      <th>Healthcare</th>\n",
       "      <th>Industrials</th>\n",
       "      <th>Information Technology</th>\n",
       "      <th>Materials</th>\n",
       "      <th>Real Estate</th>\n",
       "      <th>Utilities</th>\n",
       "    </tr>\n",
       "  </thead>\n",
       "  <tbody>\n",
       "    <tr>\n",
       "      <th>0</th>\n",
       "      <td>0</td>\n",
       "      <td>0</td>\n",
       "      <td>0</td>\n",
       "      <td>0</td>\n",
       "      <td>0</td>\n",
       "      <td>0</td>\n",
       "      <td>0</td>\n",
       "      <td>0</td>\n",
       "      <td>1</td>\n",
       "      <td>0</td>\n",
       "    </tr>\n",
       "    <tr>\n",
       "      <th>1</th>\n",
       "      <td>0</td>\n",
       "      <td>0</td>\n",
       "      <td>0</td>\n",
       "      <td>0</td>\n",
       "      <td>0</td>\n",
       "      <td>1</td>\n",
       "      <td>0</td>\n",
       "      <td>0</td>\n",
       "      <td>0</td>\n",
       "      <td>0</td>\n",
       "    </tr>\n",
       "    <tr>\n",
       "      <th>2</th>\n",
       "      <td>0</td>\n",
       "      <td>0</td>\n",
       "      <td>0</td>\n",
       "      <td>0</td>\n",
       "      <td>0</td>\n",
       "      <td>0</td>\n",
       "      <td>0</td>\n",
       "      <td>1</td>\n",
       "      <td>0</td>\n",
       "      <td>0</td>\n",
       "    </tr>\n",
       "    <tr>\n",
       "      <th>3</th>\n",
       "      <td>1</td>\n",
       "      <td>0</td>\n",
       "      <td>0</td>\n",
       "      <td>0</td>\n",
       "      <td>0</td>\n",
       "      <td>0</td>\n",
       "      <td>0</td>\n",
       "      <td>0</td>\n",
       "      <td>0</td>\n",
       "      <td>0</td>\n",
       "    </tr>\n",
       "    <tr>\n",
       "      <th>4</th>\n",
       "      <td>0</td>\n",
       "      <td>0</td>\n",
       "      <td>0</td>\n",
       "      <td>0</td>\n",
       "      <td>1</td>\n",
       "      <td>0</td>\n",
       "      <td>0</td>\n",
       "      <td>0</td>\n",
       "      <td>0</td>\n",
       "      <td>0</td>\n",
       "    </tr>\n",
       "  </tbody>\n",
       "</table>\n",
       "</div>"
      ],
      "text/plain": [
       "   Consumer Discretionary  Consumer Staples  Energy  Financials  Healthcare  \\\n",
       "0                       0                 0       0           0           0   \n",
       "1                       0                 0       0           0           0   \n",
       "2                       0                 0       0           0           0   \n",
       "3                       1                 0       0           0           0   \n",
       "4                       0                 0       0           0           1   \n",
       "\n",
       "   Industrials  Information Technology  Materials  Real Estate  Utilities  \n",
       "0            0                       0          0            1          0  \n",
       "1            1                       0          0            0          0  \n",
       "2            0                       0          1            0          0  \n",
       "3            0                       0          0            0          0  \n",
       "4            0                       0          0            0          0  "
      ]
     },
     "execution_count": 27,
     "metadata": {},
     "output_type": "execute_result"
    }
   ],
   "source": [
    "#confirm dummy was created correctly\n",
    "sector_dummy.head()"
   ]
  },
  {
   "cell_type": "code",
   "execution_count": 28,
   "metadata": {},
   "outputs": [],
   "source": [
    "#Concat initial df and dummy df\n",
    "real_deal_df = pd.concat([real_deal_df,sector_dummy],axis=1)"
   ]
  },
  {
   "cell_type": "code",
   "execution_count": 29,
   "metadata": {},
   "outputs": [
    {
     "data": {
      "text/html": [
       "<div>\n",
       "<style scoped>\n",
       "    .dataframe tbody tr th:only-of-type {\n",
       "        vertical-align: middle;\n",
       "    }\n",
       "\n",
       "    .dataframe tbody tr th {\n",
       "        vertical-align: top;\n",
       "    }\n",
       "\n",
       "    .dataframe thead th {\n",
       "        text-align: right;\n",
       "    }\n",
       "</style>\n",
       "<table border=\"1\" class=\"dataframe\">\n",
       "  <thead>\n",
       "    <tr style=\"text-align: right;\">\n",
       "      <th></th>\n",
       "      <th>Spinoff_Name</th>\n",
       "      <th>Spinoff_Ticker</th>\n",
       "      <th>Sector</th>\n",
       "      <th>P0</th>\n",
       "      <th>1-Year_Return_As_Decimal</th>\n",
       "      <th>Insiders_Buy_Sell_Margin_by_Value</th>\n",
       "      <th>P0_Bucket</th>\n",
       "      <th>Consumer Discretionary</th>\n",
       "      <th>Consumer Staples</th>\n",
       "      <th>Energy</th>\n",
       "      <th>Financials</th>\n",
       "      <th>Healthcare</th>\n",
       "      <th>Industrials</th>\n",
       "      <th>Information Technology</th>\n",
       "      <th>Materials</th>\n",
       "      <th>Real Estate</th>\n",
       "      <th>Utilities</th>\n",
       "    </tr>\n",
       "  </thead>\n",
       "  <tbody>\n",
       "    <tr>\n",
       "      <th>0</th>\n",
       "      <td>Adapteo</td>\n",
       "      <td>ADAPT:ST</td>\n",
       "      <td>Real Estate</td>\n",
       "      <td>11.99655</td>\n",
       "      <td>1.189817</td>\n",
       "      <td>-1181578.5</td>\n",
       "      <td>Low</td>\n",
       "      <td>0</td>\n",
       "      <td>0</td>\n",
       "      <td>0</td>\n",
       "      <td>0</td>\n",
       "      <td>0</td>\n",
       "      <td>0</td>\n",
       "      <td>0</td>\n",
       "      <td>0</td>\n",
       "      <td>1</td>\n",
       "      <td>0</td>\n",
       "    </tr>\n",
       "    <tr>\n",
       "      <th>1</th>\n",
       "      <td>IAA</td>\n",
       "      <td>IAA</td>\n",
       "      <td>Industrials</td>\n",
       "      <td>43.68000</td>\n",
       "      <td>0.230540</td>\n",
       "      <td>-22050.0</td>\n",
       "      <td>High</td>\n",
       "      <td>0</td>\n",
       "      <td>0</td>\n",
       "      <td>0</td>\n",
       "      <td>0</td>\n",
       "      <td>0</td>\n",
       "      <td>1</td>\n",
       "      <td>0</td>\n",
       "      <td>0</td>\n",
       "      <td>0</td>\n",
       "      <td>0</td>\n",
       "    </tr>\n",
       "    <tr>\n",
       "      <th>2</th>\n",
       "      <td>Corteva</td>\n",
       "      <td>CTVA</td>\n",
       "      <td>Materials</td>\n",
       "      <td>25.43000</td>\n",
       "      <td>0.756193</td>\n",
       "      <td>401419.0</td>\n",
       "      <td>Mid</td>\n",
       "      <td>0</td>\n",
       "      <td>0</td>\n",
       "      <td>0</td>\n",
       "      <td>0</td>\n",
       "      <td>0</td>\n",
       "      <td>0</td>\n",
       "      <td>0</td>\n",
       "      <td>1</td>\n",
       "      <td>0</td>\n",
       "      <td>0</td>\n",
       "    </tr>\n",
       "    <tr>\n",
       "      <th>3</th>\n",
       "      <td>Kontoor Brands</td>\n",
       "      <td>KTB</td>\n",
       "      <td>Consumer Discretionary</td>\n",
       "      <td>15.91000</td>\n",
       "      <td>3.027027</td>\n",
       "      <td>-490071.0</td>\n",
       "      <td>Mid</td>\n",
       "      <td>1</td>\n",
       "      <td>0</td>\n",
       "      <td>0</td>\n",
       "      <td>0</td>\n",
       "      <td>0</td>\n",
       "      <td>0</td>\n",
       "      <td>0</td>\n",
       "      <td>0</td>\n",
       "      <td>0</td>\n",
       "      <td>0</td>\n",
       "    </tr>\n",
       "    <tr>\n",
       "      <th>4</th>\n",
       "      <td>Alcon</td>\n",
       "      <td>ALC</td>\n",
       "      <td>Healthcare</td>\n",
       "      <td>52.54000</td>\n",
       "      <td>0.366388</td>\n",
       "      <td>19723.0</td>\n",
       "      <td>High</td>\n",
       "      <td>0</td>\n",
       "      <td>0</td>\n",
       "      <td>0</td>\n",
       "      <td>0</td>\n",
       "      <td>1</td>\n",
       "      <td>0</td>\n",
       "      <td>0</td>\n",
       "      <td>0</td>\n",
       "      <td>0</td>\n",
       "      <td>0</td>\n",
       "    </tr>\n",
       "  </tbody>\n",
       "</table>\n",
       "</div>"
      ],
      "text/plain": [
       "     Spinoff_Name Spinoff_Ticker                  Sector        P0  \\\n",
       "0         Adapteo       ADAPT:ST             Real Estate  11.99655   \n",
       "1             IAA            IAA             Industrials  43.68000   \n",
       "2         Corteva           CTVA               Materials  25.43000   \n",
       "3  Kontoor Brands            KTB  Consumer Discretionary  15.91000   \n",
       "4           Alcon            ALC              Healthcare  52.54000   \n",
       "\n",
       "   1-Year_Return_As_Decimal  Insiders_Buy_Sell_Margin_by_Value P0_Bucket  \\\n",
       "0                  1.189817                         -1181578.5       Low   \n",
       "1                  0.230540                           -22050.0      High   \n",
       "2                  0.756193                           401419.0       Mid   \n",
       "3                  3.027027                          -490071.0       Mid   \n",
       "4                  0.366388                            19723.0      High   \n",
       "\n",
       "   Consumer Discretionary  Consumer Staples  Energy  Financials  Healthcare  \\\n",
       "0                       0                 0       0           0           0   \n",
       "1                       0                 0       0           0           0   \n",
       "2                       0                 0       0           0           0   \n",
       "3                       1                 0       0           0           0   \n",
       "4                       0                 0       0           0           1   \n",
       "\n",
       "   Industrials  Information Technology  Materials  Real Estate  Utilities  \n",
       "0            0                       0          0            1          0  \n",
       "1            1                       0          0            0          0  \n",
       "2            0                       0          1            0          0  \n",
       "3            0                       0          0            0          0  \n",
       "4            0                       0          0            0          0  "
      ]
     },
     "execution_count": 29,
     "metadata": {},
     "output_type": "execute_result"
    }
   ],
   "source": [
    "#See if combined df looks right\n",
    "real_deal_df.head()"
   ]
  },
  {
   "cell_type": "code",
   "execution_count": 30,
   "metadata": {},
   "outputs": [],
   "source": [
    "#Remove Unnamed feature\n",
    "#real_deal_df = real_deal_df.drop(\"Unnamed: 0\",axis=1)"
   ]
  },
  {
   "cell_type": "code",
   "execution_count": 31,
   "metadata": {},
   "outputs": [],
   "source": [
    "new_df = real_deal_df"
   ]
  },
  {
   "cell_type": "code",
   "execution_count": 32,
   "metadata": {},
   "outputs": [
    {
     "data": {
      "text/html": [
       "<div>\n",
       "<style scoped>\n",
       "    .dataframe tbody tr th:only-of-type {\n",
       "        vertical-align: middle;\n",
       "    }\n",
       "\n",
       "    .dataframe tbody tr th {\n",
       "        vertical-align: top;\n",
       "    }\n",
       "\n",
       "    .dataframe thead th {\n",
       "        text-align: right;\n",
       "    }\n",
       "</style>\n",
       "<table border=\"1\" class=\"dataframe\">\n",
       "  <thead>\n",
       "    <tr style=\"text-align: right;\">\n",
       "      <th></th>\n",
       "      <th>Spinoff_Name</th>\n",
       "      <th>Spinoff_Ticker</th>\n",
       "      <th>Sector</th>\n",
       "      <th>P0</th>\n",
       "      <th>1-Year_Return_As_Decimal</th>\n",
       "      <th>Insiders_Buy_Sell_Margin_by_Value</th>\n",
       "      <th>P0_Bucket</th>\n",
       "      <th>Consumer Discretionary</th>\n",
       "      <th>Consumer Staples</th>\n",
       "      <th>Energy</th>\n",
       "      <th>Financials</th>\n",
       "      <th>Healthcare</th>\n",
       "      <th>Industrials</th>\n",
       "      <th>Information Technology</th>\n",
       "      <th>Materials</th>\n",
       "      <th>Real Estate</th>\n",
       "      <th>Utilities</th>\n",
       "    </tr>\n",
       "  </thead>\n",
       "  <tbody>\n",
       "    <tr>\n",
       "      <th>0</th>\n",
       "      <td>Adapteo</td>\n",
       "      <td>ADAPT:ST</td>\n",
       "      <td>Real Estate</td>\n",
       "      <td>11.99655</td>\n",
       "      <td>1.189817</td>\n",
       "      <td>-1181578.5</td>\n",
       "      <td>Low</td>\n",
       "      <td>0</td>\n",
       "      <td>0</td>\n",
       "      <td>0</td>\n",
       "      <td>0</td>\n",
       "      <td>0</td>\n",
       "      <td>0</td>\n",
       "      <td>0</td>\n",
       "      <td>0</td>\n",
       "      <td>1</td>\n",
       "      <td>0</td>\n",
       "    </tr>\n",
       "    <tr>\n",
       "      <th>1</th>\n",
       "      <td>IAA</td>\n",
       "      <td>IAA</td>\n",
       "      <td>Industrials</td>\n",
       "      <td>43.68000</td>\n",
       "      <td>0.230540</td>\n",
       "      <td>-22050.0</td>\n",
       "      <td>High</td>\n",
       "      <td>0</td>\n",
       "      <td>0</td>\n",
       "      <td>0</td>\n",
       "      <td>0</td>\n",
       "      <td>0</td>\n",
       "      <td>1</td>\n",
       "      <td>0</td>\n",
       "      <td>0</td>\n",
       "      <td>0</td>\n",
       "      <td>0</td>\n",
       "    </tr>\n",
       "    <tr>\n",
       "      <th>2</th>\n",
       "      <td>Corteva</td>\n",
       "      <td>CTVA</td>\n",
       "      <td>Materials</td>\n",
       "      <td>25.43000</td>\n",
       "      <td>0.756193</td>\n",
       "      <td>401419.0</td>\n",
       "      <td>Mid</td>\n",
       "      <td>0</td>\n",
       "      <td>0</td>\n",
       "      <td>0</td>\n",
       "      <td>0</td>\n",
       "      <td>0</td>\n",
       "      <td>0</td>\n",
       "      <td>0</td>\n",
       "      <td>1</td>\n",
       "      <td>0</td>\n",
       "      <td>0</td>\n",
       "    </tr>\n",
       "    <tr>\n",
       "      <th>3</th>\n",
       "      <td>Kontoor Brands</td>\n",
       "      <td>KTB</td>\n",
       "      <td>Consumer Discretionary</td>\n",
       "      <td>15.91000</td>\n",
       "      <td>3.027027</td>\n",
       "      <td>-490071.0</td>\n",
       "      <td>Mid</td>\n",
       "      <td>1</td>\n",
       "      <td>0</td>\n",
       "      <td>0</td>\n",
       "      <td>0</td>\n",
       "      <td>0</td>\n",
       "      <td>0</td>\n",
       "      <td>0</td>\n",
       "      <td>0</td>\n",
       "      <td>0</td>\n",
       "      <td>0</td>\n",
       "    </tr>\n",
       "    <tr>\n",
       "      <th>4</th>\n",
       "      <td>Alcon</td>\n",
       "      <td>ALC</td>\n",
       "      <td>Healthcare</td>\n",
       "      <td>52.54000</td>\n",
       "      <td>0.366388</td>\n",
       "      <td>19723.0</td>\n",
       "      <td>High</td>\n",
       "      <td>0</td>\n",
       "      <td>0</td>\n",
       "      <td>0</td>\n",
       "      <td>0</td>\n",
       "      <td>1</td>\n",
       "      <td>0</td>\n",
       "      <td>0</td>\n",
       "      <td>0</td>\n",
       "      <td>0</td>\n",
       "      <td>0</td>\n",
       "    </tr>\n",
       "  </tbody>\n",
       "</table>\n",
       "</div>"
      ],
      "text/plain": [
       "     Spinoff_Name Spinoff_Ticker                  Sector        P0  \\\n",
       "0         Adapteo       ADAPT:ST             Real Estate  11.99655   \n",
       "1             IAA            IAA             Industrials  43.68000   \n",
       "2         Corteva           CTVA               Materials  25.43000   \n",
       "3  Kontoor Brands            KTB  Consumer Discretionary  15.91000   \n",
       "4           Alcon            ALC              Healthcare  52.54000   \n",
       "\n",
       "   1-Year_Return_As_Decimal  Insiders_Buy_Sell_Margin_by_Value P0_Bucket  \\\n",
       "0                  1.189817                         -1181578.5       Low   \n",
       "1                  0.230540                           -22050.0      High   \n",
       "2                  0.756193                           401419.0       Mid   \n",
       "3                  3.027027                          -490071.0       Mid   \n",
       "4                  0.366388                            19723.0      High   \n",
       "\n",
       "   Consumer Discretionary  Consumer Staples  Energy  Financials  Healthcare  \\\n",
       "0                       0                 0       0           0           0   \n",
       "1                       0                 0       0           0           0   \n",
       "2                       0                 0       0           0           0   \n",
       "3                       1                 0       0           0           0   \n",
       "4                       0                 0       0           0           1   \n",
       "\n",
       "   Industrials  Information Technology  Materials  Real Estate  Utilities  \n",
       "0            0                       0          0            1          0  \n",
       "1            1                       0          0            0          0  \n",
       "2            0                       0          1            0          0  \n",
       "3            0                       0          0            0          0  \n",
       "4            0                       0          0            0          0  "
      ]
     },
     "execution_count": 32,
     "metadata": {},
     "output_type": "execute_result"
    }
   ],
   "source": [
    "new_df.head()"
   ]
  },
  {
   "cell_type": "code",
   "execution_count": 33,
   "metadata": {},
   "outputs": [],
   "source": [
    "#Define function to evaluate good or bad investments based on return\n",
    "def good_investment(z):\n",
    "    if z > .1:\n",
    "        return(\"Good\")\n",
    "    else:\n",
    "        return(\"Bad\")"
   ]
  },
  {
   "cell_type": "code",
   "execution_count": 34,
   "metadata": {},
   "outputs": [],
   "source": [
    "new_df['Decision'] = new_df['1-Year_Return_As_Decimal'].apply(lambda x:good_investment(x))"
   ]
  },
  {
   "cell_type": "code",
   "execution_count": 35,
   "metadata": {},
   "outputs": [],
   "source": [
    "decision_dummy = pd.get_dummies(new_df,columns=['Decision'],drop_first=True)"
   ]
  },
  {
   "cell_type": "code",
   "execution_count": 36,
   "metadata": {},
   "outputs": [],
   "source": [
    "new_df = decision_dummy"
   ]
  },
  {
   "cell_type": "code",
   "execution_count": 37,
   "metadata": {},
   "outputs": [
    {
     "data": {
      "text/html": [
       "<div>\n",
       "<style scoped>\n",
       "    .dataframe tbody tr th:only-of-type {\n",
       "        vertical-align: middle;\n",
       "    }\n",
       "\n",
       "    .dataframe tbody tr th {\n",
       "        vertical-align: top;\n",
       "    }\n",
       "\n",
       "    .dataframe thead th {\n",
       "        text-align: right;\n",
       "    }\n",
       "</style>\n",
       "<table border=\"1\" class=\"dataframe\">\n",
       "  <thead>\n",
       "    <tr style=\"text-align: right;\">\n",
       "      <th></th>\n",
       "      <th>Spinoff_Name</th>\n",
       "      <th>Spinoff_Ticker</th>\n",
       "      <th>Sector</th>\n",
       "      <th>P0</th>\n",
       "      <th>1-Year_Return_As_Decimal</th>\n",
       "      <th>Insiders_Buy_Sell_Margin_by_Value</th>\n",
       "      <th>P0_Bucket</th>\n",
       "      <th>Consumer Discretionary</th>\n",
       "      <th>Consumer Staples</th>\n",
       "      <th>Energy</th>\n",
       "      <th>Financials</th>\n",
       "      <th>Healthcare</th>\n",
       "      <th>Industrials</th>\n",
       "      <th>Information Technology</th>\n",
       "      <th>Materials</th>\n",
       "      <th>Real Estate</th>\n",
       "      <th>Utilities</th>\n",
       "      <th>Decision_Good</th>\n",
       "    </tr>\n",
       "  </thead>\n",
       "  <tbody>\n",
       "    <tr>\n",
       "      <th>0</th>\n",
       "      <td>Adapteo</td>\n",
       "      <td>ADAPT:ST</td>\n",
       "      <td>Real Estate</td>\n",
       "      <td>11.99655</td>\n",
       "      <td>1.189817</td>\n",
       "      <td>-1181578.5</td>\n",
       "      <td>Low</td>\n",
       "      <td>0</td>\n",
       "      <td>0</td>\n",
       "      <td>0</td>\n",
       "      <td>0</td>\n",
       "      <td>0</td>\n",
       "      <td>0</td>\n",
       "      <td>0</td>\n",
       "      <td>0</td>\n",
       "      <td>1</td>\n",
       "      <td>0</td>\n",
       "      <td>1</td>\n",
       "    </tr>\n",
       "    <tr>\n",
       "      <th>1</th>\n",
       "      <td>IAA</td>\n",
       "      <td>IAA</td>\n",
       "      <td>Industrials</td>\n",
       "      <td>43.68000</td>\n",
       "      <td>0.230540</td>\n",
       "      <td>-22050.0</td>\n",
       "      <td>High</td>\n",
       "      <td>0</td>\n",
       "      <td>0</td>\n",
       "      <td>0</td>\n",
       "      <td>0</td>\n",
       "      <td>0</td>\n",
       "      <td>1</td>\n",
       "      <td>0</td>\n",
       "      <td>0</td>\n",
       "      <td>0</td>\n",
       "      <td>0</td>\n",
       "      <td>1</td>\n",
       "    </tr>\n",
       "    <tr>\n",
       "      <th>2</th>\n",
       "      <td>Corteva</td>\n",
       "      <td>CTVA</td>\n",
       "      <td>Materials</td>\n",
       "      <td>25.43000</td>\n",
       "      <td>0.756193</td>\n",
       "      <td>401419.0</td>\n",
       "      <td>Mid</td>\n",
       "      <td>0</td>\n",
       "      <td>0</td>\n",
       "      <td>0</td>\n",
       "      <td>0</td>\n",
       "      <td>0</td>\n",
       "      <td>0</td>\n",
       "      <td>0</td>\n",
       "      <td>1</td>\n",
       "      <td>0</td>\n",
       "      <td>0</td>\n",
       "      <td>1</td>\n",
       "    </tr>\n",
       "    <tr>\n",
       "      <th>3</th>\n",
       "      <td>Kontoor Brands</td>\n",
       "      <td>KTB</td>\n",
       "      <td>Consumer Discretionary</td>\n",
       "      <td>15.91000</td>\n",
       "      <td>3.027027</td>\n",
       "      <td>-490071.0</td>\n",
       "      <td>Mid</td>\n",
       "      <td>1</td>\n",
       "      <td>0</td>\n",
       "      <td>0</td>\n",
       "      <td>0</td>\n",
       "      <td>0</td>\n",
       "      <td>0</td>\n",
       "      <td>0</td>\n",
       "      <td>0</td>\n",
       "      <td>0</td>\n",
       "      <td>0</td>\n",
       "      <td>1</td>\n",
       "    </tr>\n",
       "    <tr>\n",
       "      <th>4</th>\n",
       "      <td>Alcon</td>\n",
       "      <td>ALC</td>\n",
       "      <td>Healthcare</td>\n",
       "      <td>52.54000</td>\n",
       "      <td>0.366388</td>\n",
       "      <td>19723.0</td>\n",
       "      <td>High</td>\n",
       "      <td>0</td>\n",
       "      <td>0</td>\n",
       "      <td>0</td>\n",
       "      <td>0</td>\n",
       "      <td>1</td>\n",
       "      <td>0</td>\n",
       "      <td>0</td>\n",
       "      <td>0</td>\n",
       "      <td>0</td>\n",
       "      <td>0</td>\n",
       "      <td>1</td>\n",
       "    </tr>\n",
       "  </tbody>\n",
       "</table>\n",
       "</div>"
      ],
      "text/plain": [
       "     Spinoff_Name Spinoff_Ticker                  Sector        P0  \\\n",
       "0         Adapteo       ADAPT:ST             Real Estate  11.99655   \n",
       "1             IAA            IAA             Industrials  43.68000   \n",
       "2         Corteva           CTVA               Materials  25.43000   \n",
       "3  Kontoor Brands            KTB  Consumer Discretionary  15.91000   \n",
       "4           Alcon            ALC              Healthcare  52.54000   \n",
       "\n",
       "   1-Year_Return_As_Decimal  Insiders_Buy_Sell_Margin_by_Value P0_Bucket  \\\n",
       "0                  1.189817                         -1181578.5       Low   \n",
       "1                  0.230540                           -22050.0      High   \n",
       "2                  0.756193                           401419.0       Mid   \n",
       "3                  3.027027                          -490071.0       Mid   \n",
       "4                  0.366388                            19723.0      High   \n",
       "\n",
       "   Consumer Discretionary  Consumer Staples  Energy  Financials  Healthcare  \\\n",
       "0                       0                 0       0           0           0   \n",
       "1                       0                 0       0           0           0   \n",
       "2                       0                 0       0           0           0   \n",
       "3                       1                 0       0           0           0   \n",
       "4                       0                 0       0           0           1   \n",
       "\n",
       "   Industrials  Information Technology  Materials  Real Estate  Utilities  \\\n",
       "0            0                       0          0            1          0   \n",
       "1            1                       0          0            0          0   \n",
       "2            0                       0          1            0          0   \n",
       "3            0                       0          0            0          0   \n",
       "4            0                       0          0            0          0   \n",
       "\n",
       "   Decision_Good  \n",
       "0              1  \n",
       "1              1  \n",
       "2              1  \n",
       "3              1  \n",
       "4              1  "
      ]
     },
     "execution_count": 37,
     "metadata": {},
     "output_type": "execute_result"
    }
   ],
   "source": [
    "new_df.head()"
   ]
  },
  {
   "cell_type": "code",
   "execution_count": 20,
   "metadata": {},
   "outputs": [],
   "source": [
    "from sklearn.model_selection import train_test_split"
   ]
  },
  {
   "cell_type": "code",
   "execution_count": 45,
   "metadata": {},
   "outputs": [],
   "source": [
    "#new_df = new_df.drop(['Spinoff_Name','Spinoff_Ticker','Sector','P0_Bucket'],axis=1)"
   ]
  },
  {
   "cell_type": "code",
   "execution_count": 57,
   "metadata": {},
   "outputs": [],
   "source": [
    "new_df.head()\n",
    "new_df.to_csv('Dummified Spinoff Data.csv')"
   ]
  },
  {
   "cell_type": "code",
   "execution_count": 38,
   "metadata": {},
   "outputs": [],
   "source": [
    "X = new_df[['P0','Insiders_Buy_Sell_Margin_by_Value','Consumer Discretionary','Consumer Staples','Energy','Financials','Healthcare','Industrials','Information Technology','Materials','Real Estate','Utilities']]\n",
    "y = new_df['Decision_Good']"
   ]
  },
  {
   "cell_type": "code",
   "execution_count": 65,
   "metadata": {},
   "outputs": [],
   "source": [
    "X_train, X_test, y_train, y_test = train_test_split(X, y, test_size=0.33, random_state=42)"
   ]
  },
  {
   "cell_type": "code",
   "execution_count": 66,
   "metadata": {},
   "outputs": [],
   "source": [
    "from sklearn.linear_model import LogisticRegression"
   ]
  },
  {
   "cell_type": "code",
   "execution_count": 67,
   "metadata": {},
   "outputs": [
    {
     "data": {
      "text/plain": [
       "LogisticRegression(C=1.0, class_weight=None, dual=False, fit_intercept=True,\n",
       "          intercept_scaling=1, max_iter=100, multi_class='ovr', n_jobs=1,\n",
       "          penalty='l2', random_state=None, solver='liblinear', tol=0.0001,\n",
       "          verbose=0, warm_start=False)"
      ]
     },
     "execution_count": 67,
     "metadata": {},
     "output_type": "execute_result"
    }
   ],
   "source": [
    "logmodel = LogisticRegression()\n",
    "logmodel.fit(X_train,y_train)"
   ]
  },
  {
   "cell_type": "code",
   "execution_count": 68,
   "metadata": {},
   "outputs": [
    {
     "name": "stdout",
     "output_type": "stream",
     "text": [
      "Warning: Maximum number of iterations has been exceeded.\n",
      "         Current function value: 63.294422\n",
      "         Iterations: 35\n"
     ]
    },
    {
     "name": "stderr",
     "output_type": "stream",
     "text": [
      "C:\\Users\\magilmartin\\AppData\\Local\\Continuum\\anaconda3.1\\lib\\site-packages\\statsmodels\\base\\model.py:508: ConvergenceWarning: Maximum Likelihood optimization failed to converge. Check mle_retvals\n",
      "  \"Check mle_retvals\", ConvergenceWarning)\n"
     ]
    }
   ],
   "source": [
    "#Would not converge.\n",
    "import statsmodels.api as sm\n",
    "log_reg = sm.Logit(y_train, X_train).fit()"
   ]
  },
  {
   "cell_type": "code",
   "execution_count": 69,
   "metadata": {},
   "outputs": [],
   "source": [
    "predictions = logmodel.predict(X_test)"
   ]
  },
  {
   "cell_type": "code",
   "execution_count": 70,
   "metadata": {},
   "outputs": [],
   "source": [
    "from sklearn.metrics import classification_report"
   ]
  },
  {
   "cell_type": "code",
   "execution_count": 71,
   "metadata": {},
   "outputs": [
    {
     "name": "stdout",
     "output_type": "stream",
     "text": [
      "             precision    recall  f1-score   support\n",
      "\n",
      "          0       0.74      0.52      0.61        33\n",
      "          1       0.56      0.77      0.65        26\n",
      "\n",
      "avg / total       0.66      0.63      0.62        59\n",
      "\n"
     ]
    }
   ],
   "source": [
    "print(classification_report(y_test,predictions))"
   ]
  },
  {
   "cell_type": "code",
   "execution_count": 72,
   "metadata": {},
   "outputs": [
    {
     "name": "stdout",
     "output_type": "stream",
     "text": [
      "[[-1.15942857e-14 -5.59291712e-09 -6.01881677e-17  1.37904550e-17\n",
      "  -7.39954140e-17 -8.46336605e-17  3.37009370e-17 -2.67623275e-17\n",
      "  -2.38132825e-18  1.32953008e-17 -1.70592669e-17  1.05565451e-17]] [-1.16183251e-16]\n"
     ]
    }
   ],
   "source": [
    "print(logmodel.coef_, logmodel.intercept_)"
   ]
  },
  {
   "cell_type": "code",
   "execution_count": 73,
   "metadata": {},
   "outputs": [
    {
     "name": "stdout",
     "output_type": "stream",
     "text": [
      "                           Logit Regression Results                           \n",
      "==============================================================================\n",
      "Dep. Variable:          Decision_Good   No. Observations:                  117\n",
      "Model:                          Logit   Df Residuals:                      105\n",
      "Method:                           MLE   Df Model:                           11\n",
      "Date:                Sun, 12 Sep 2021   Pseudo R-squ.:                     inf\n",
      "Time:                        21:41:03   Log-Likelihood:                -7405.4\n",
      "converged:                      False   LL-Null:                        0.0000\n",
      "                                        LLR p-value:                     1.000\n",
      "=====================================================================================================\n",
      "                                        coef    std err          z      P>|z|      [0.025      0.975]\n",
      "-----------------------------------------------------------------------------------------------------\n",
      "P0                                    0.0002      0.002      0.111      0.911      -0.004       0.004\n",
      "Insiders_Buy_Sell_Margin_by_Value -6.394e-09   3.01e-09     -2.122      0.034   -1.23e-08   -4.88e-10\n",
      "Consumer Discretionary               -0.4419      0.463     -0.955      0.340      -1.349       0.465\n",
      "Consumer Staples                     16.9542   5093.192      0.003      0.997   -9965.519    9999.427\n",
      "Energy                               -0.7301      0.551     -1.324      0.185      -1.811       0.350\n",
      "Financials                           -1.8039      0.988     -1.826      0.068      -3.740       0.133\n",
      "Healthcare                            0.4158      0.652      0.637      0.524      -0.863       1.694\n",
      "Industrials                          -0.2741      0.549     -0.499      0.617      -1.350       0.802\n",
      "Information Technology               -0.1664      0.823     -0.202      0.840      -1.779       1.446\n",
      "Materials                             0.2557      0.765      0.334      0.738      -1.244       1.756\n",
      "Real Estate                          -0.1998      0.522     -0.383      0.702      -1.223       0.823\n",
      "Utilities                            14.5654   2111.788      0.007      0.994   -4124.464    4153.595\n",
      "=====================================================================================================\n"
     ]
    },
    {
     "name": "stderr",
     "output_type": "stream",
     "text": [
      "C:\\Users\\magilmartin\\AppData\\Local\\Continuum\\anaconda3.1\\lib\\site-packages\\statsmodels\\base\\model.py:488: HessianInversionWarning: Inverting hessian failed, no bse or cov_params available\n",
      "  'available', HessianInversionWarning)\n",
      "C:\\Users\\magilmartin\\AppData\\Local\\Continuum\\anaconda3.1\\lib\\site-packages\\statsmodels\\base\\model.py:488: HessianInversionWarning: Inverting hessian failed, no bse or cov_params available\n",
      "  'available', HessianInversionWarning)\n",
      "C:\\Users\\magilmartin\\AppData\\Local\\Continuum\\anaconda3.1\\lib\\site-packages\\statsmodels\\discrete\\discrete_model.py:3313: RuntimeWarning: divide by zero encountered in double_scalars\n",
      "  return 1 - self.llf/self.llnull\n"
     ]
    }
   ],
   "source": [
    "print(log_reg.summary())"
   ]
  },
  {
   "cell_type": "code",
   "execution_count": 82,
   "metadata": {},
   "outputs": [
    {
     "data": {
      "image/png": "[encoded data removed]",
      "text/plain": [
       "<Figure size 432x288 with 1 Axes>"
      ]
     },
     "metadata": {
      "needs_background": "light"
     },
     "output_type": "display_data"
    }
   ],
   "source": [
    "#Balance of good investments vs bad\n",
    "breakdown_plot = sns.countplot(new_df['Decision_Good'])\n",
    "plt.title('Breakdown of Good Investments and Bad', fontsize=14)\n",
    "plt.xlabel(s='0 for Bad and 1 for Good',fontsize=11)\n",
    "plt.ylabel(s='Count',fontsize=11)\n",
    "\n",
    "for each in breakdown_plot.patches:\n",
    "    breakdown_plot.annotate(format(each.get_height()),\n",
    "                   (each.get_x() + each.get_width() / 2,\n",
    "                   each.get_height()),ha='center',va='center',\n",
    "                   size=20, xytext=(0,-10),\n",
    "                   textcoords='offset points')\n"
   ]
  },
  {
   "cell_type": "code",
   "execution_count": 143,
   "metadata": {},
   "outputs": [
    {
     "data": {
      "text/html": [
       "<div>\n",
       "<style scoped>\n",
       "    .dataframe tbody tr th:only-of-type {\n",
       "        vertical-align: middle;\n",
       "    }\n",
       "\n",
       "    .dataframe tbody tr th {\n",
       "        vertical-align: top;\n",
       "    }\n",
       "\n",
       "    .dataframe thead tr th {\n",
       "        text-align: left;\n",
       "    }\n",
       "\n",
       "    .dataframe thead tr:last-of-type th {\n",
       "        text-align: right;\n",
       "    }\n",
       "</style>\n",
       "<table border=\"1\" class=\"dataframe\">\n",
       "  <thead>\n",
       "    <tr>\n",
       "      <th></th>\n",
       "      <th colspan=\"8\" halign=\"left\">P0</th>\n",
       "      <th colspan=\"2\" halign=\"left\">1-Year_Return_As_Decimal</th>\n",
       "      <th>...</th>\n",
       "      <th colspan=\"2\" halign=\"left\">Real Estate</th>\n",
       "      <th colspan=\"8\" halign=\"left\">Utilities</th>\n",
       "    </tr>\n",
       "    <tr>\n",
       "      <th></th>\n",
       "      <th>count</th>\n",
       "      <th>mean</th>\n",
       "      <th>std</th>\n",
       "      <th>min</th>\n",
       "      <th>25%</th>\n",
       "      <th>50%</th>\n",
       "      <th>75%</th>\n",
       "      <th>max</th>\n",
       "      <th>count</th>\n",
       "      <th>mean</th>\n",
       "      <th>...</th>\n",
       "      <th>75%</th>\n",
       "      <th>max</th>\n",
       "      <th>count</th>\n",
       "      <th>mean</th>\n",
       "      <th>std</th>\n",
       "      <th>min</th>\n",
       "      <th>25%</th>\n",
       "      <th>50%</th>\n",
       "      <th>75%</th>\n",
       "      <th>max</th>\n",
       "    </tr>\n",
       "    <tr>\n",
       "      <th>Sector</th>\n",
       "      <th></th>\n",
       "      <th></th>\n",
       "      <th></th>\n",
       "      <th></th>\n",
       "      <th></th>\n",
       "      <th></th>\n",
       "      <th></th>\n",
       "      <th></th>\n",
       "      <th></th>\n",
       "      <th></th>\n",
       "      <th></th>\n",
       "      <th></th>\n",
       "      <th></th>\n",
       "      <th></th>\n",
       "      <th></th>\n",
       "      <th></th>\n",
       "      <th></th>\n",
       "      <th></th>\n",
       "      <th></th>\n",
       "      <th></th>\n",
       "      <th></th>\n",
       "    </tr>\n",
       "  </thead>\n",
       "  <tbody>\n",
       "    <tr>\n",
       "      <th>Communication Services</th>\n",
       "      <td>19.0</td>\n",
       "      <td>55.705263</td>\n",
       "      <td>107.955961</td>\n",
       "      <td>0.710000</td>\n",
       "      <td>18.9800</td>\n",
       "      <td>28.090</td>\n",
       "      <td>50.065000</td>\n",
       "      <td>495.81000</td>\n",
       "      <td>19.0</td>\n",
       "      <td>0.194588</td>\n",
       "      <td>...</td>\n",
       "      <td>0.0</td>\n",
       "      <td>0.0</td>\n",
       "      <td>19.0</td>\n",
       "      <td>0.0</td>\n",
       "      <td>0.0</td>\n",
       "      <td>0.0</td>\n",
       "      <td>0.0</td>\n",
       "      <td>0.0</td>\n",
       "      <td>0.0</td>\n",
       "      <td>0.0</td>\n",
       "    </tr>\n",
       "    <tr>\n",
       "      <th>Consumer Discretionary</th>\n",
       "      <td>29.0</td>\n",
       "      <td>33.499310</td>\n",
       "      <td>28.015087</td>\n",
       "      <td>0.040000</td>\n",
       "      <td>12.1900</td>\n",
       "      <td>24.920</td>\n",
       "      <td>42.950000</td>\n",
       "      <td>123.16000</td>\n",
       "      <td>29.0</td>\n",
       "      <td>0.111667</td>\n",
       "      <td>...</td>\n",
       "      <td>0.0</td>\n",
       "      <td>0.0</td>\n",
       "      <td>29.0</td>\n",
       "      <td>0.0</td>\n",
       "      <td>0.0</td>\n",
       "      <td>0.0</td>\n",
       "      <td>0.0</td>\n",
       "      <td>0.0</td>\n",
       "      <td>0.0</td>\n",
       "      <td>0.0</td>\n",
       "    </tr>\n",
       "    <tr>\n",
       "      <th>Consumer Staples</th>\n",
       "      <td>2.0</td>\n",
       "      <td>38.720000</td>\n",
       "      <td>19.063599</td>\n",
       "      <td>25.240000</td>\n",
       "      <td>31.9800</td>\n",
       "      <td>38.720</td>\n",
       "      <td>45.460000</td>\n",
       "      <td>52.20000</td>\n",
       "      <td>2.0</td>\n",
       "      <td>0.360382</td>\n",
       "      <td>...</td>\n",
       "      <td>0.0</td>\n",
       "      <td>0.0</td>\n",
       "      <td>2.0</td>\n",
       "      <td>0.0</td>\n",
       "      <td>0.0</td>\n",
       "      <td>0.0</td>\n",
       "      <td>0.0</td>\n",
       "      <td>0.0</td>\n",
       "      <td>0.0</td>\n",
       "      <td>0.0</td>\n",
       "    </tr>\n",
       "    <tr>\n",
       "      <th>Energy</th>\n",
       "      <td>23.0</td>\n",
       "      <td>35.434441</td>\n",
       "      <td>53.965615</td>\n",
       "      <td>5.900000</td>\n",
       "      <td>15.1250</td>\n",
       "      <td>20.900</td>\n",
       "      <td>33.271075</td>\n",
       "      <td>273.20000</td>\n",
       "      <td>23.0</td>\n",
       "      <td>-0.114267</td>\n",
       "      <td>...</td>\n",
       "      <td>0.0</td>\n",
       "      <td>0.0</td>\n",
       "      <td>23.0</td>\n",
       "      <td>0.0</td>\n",
       "      <td>0.0</td>\n",
       "      <td>0.0</td>\n",
       "      <td>0.0</td>\n",
       "      <td>0.0</td>\n",
       "      <td>0.0</td>\n",
       "      <td>0.0</td>\n",
       "    </tr>\n",
       "    <tr>\n",
       "      <th>Financials</th>\n",
       "      <td>13.0</td>\n",
       "      <td>102.020648</td>\n",
       "      <td>270.295563</td>\n",
       "      <td>3.168418</td>\n",
       "      <td>20.3600</td>\n",
       "      <td>25.240</td>\n",
       "      <td>36.300000</td>\n",
       "      <td>1000.00000</td>\n",
       "      <td>13.0</td>\n",
       "      <td>-0.112256</td>\n",
       "      <td>...</td>\n",
       "      <td>0.0</td>\n",
       "      <td>0.0</td>\n",
       "      <td>13.0</td>\n",
       "      <td>0.0</td>\n",
       "      <td>0.0</td>\n",
       "      <td>0.0</td>\n",
       "      <td>0.0</td>\n",
       "      <td>0.0</td>\n",
       "      <td>0.0</td>\n",
       "      <td>0.0</td>\n",
       "    </tr>\n",
       "    <tr>\n",
       "      <th>Healthcare</th>\n",
       "      <td>15.0</td>\n",
       "      <td>54.008900</td>\n",
       "      <td>72.043535</td>\n",
       "      <td>2.530000</td>\n",
       "      <td>14.1900</td>\n",
       "      <td>27.940</td>\n",
       "      <td>52.330000</td>\n",
       "      <td>282.05448</td>\n",
       "      <td>15.0</td>\n",
       "      <td>0.302348</td>\n",
       "      <td>...</td>\n",
       "      <td>0.0</td>\n",
       "      <td>0.0</td>\n",
       "      <td>15.0</td>\n",
       "      <td>0.0</td>\n",
       "      <td>0.0</td>\n",
       "      <td>0.0</td>\n",
       "      <td>0.0</td>\n",
       "      <td>0.0</td>\n",
       "      <td>0.0</td>\n",
       "      <td>0.0</td>\n",
       "    </tr>\n",
       "    <tr>\n",
       "      <th>Industrials</th>\n",
       "      <td>22.0</td>\n",
       "      <td>33.114029</td>\n",
       "      <td>43.579876</td>\n",
       "      <td>1.881743</td>\n",
       "      <td>10.8525</td>\n",
       "      <td>22.695</td>\n",
       "      <td>34.925000</td>\n",
       "      <td>208.20000</td>\n",
       "      <td>22.0</td>\n",
       "      <td>0.087097</td>\n",
       "      <td>...</td>\n",
       "      <td>0.0</td>\n",
       "      <td>0.0</td>\n",
       "      <td>22.0</td>\n",
       "      <td>0.0</td>\n",
       "      <td>0.0</td>\n",
       "      <td>0.0</td>\n",
       "      <td>0.0</td>\n",
       "      <td>0.0</td>\n",
       "      <td>0.0</td>\n",
       "      <td>0.0</td>\n",
       "    </tr>\n",
       "    <tr>\n",
       "      <th>Information Technology</th>\n",
       "      <td>12.0</td>\n",
       "      <td>27.972500</td>\n",
       "      <td>24.008847</td>\n",
       "      <td>2.800000</td>\n",
       "      <td>11.0450</td>\n",
       "      <td>19.335</td>\n",
       "      <td>43.235000</td>\n",
       "      <td>81.32000</td>\n",
       "      <td>12.0</td>\n",
       "      <td>0.188149</td>\n",
       "      <td>...</td>\n",
       "      <td>0.0</td>\n",
       "      <td>0.0</td>\n",
       "      <td>12.0</td>\n",
       "      <td>0.0</td>\n",
       "      <td>0.0</td>\n",
       "      <td>0.0</td>\n",
       "      <td>0.0</td>\n",
       "      <td>0.0</td>\n",
       "      <td>0.0</td>\n",
       "      <td>0.0</td>\n",
       "    </tr>\n",
       "    <tr>\n",
       "      <th>Materials</th>\n",
       "      <td>18.0</td>\n",
       "      <td>21.921951</td>\n",
       "      <td>17.918109</td>\n",
       "      <td>0.118000</td>\n",
       "      <td>7.1525</td>\n",
       "      <td>22.215</td>\n",
       "      <td>31.787500</td>\n",
       "      <td>63.66000</td>\n",
       "      <td>18.0</td>\n",
       "      <td>0.248076</td>\n",
       "      <td>...</td>\n",
       "      <td>0.0</td>\n",
       "      <td>0.0</td>\n",
       "      <td>18.0</td>\n",
       "      <td>0.0</td>\n",
       "      <td>0.0</td>\n",
       "      <td>0.0</td>\n",
       "      <td>0.0</td>\n",
       "      <td>0.0</td>\n",
       "      <td>0.0</td>\n",
       "      <td>0.0</td>\n",
       "    </tr>\n",
       "    <tr>\n",
       "      <th>Real Estate</th>\n",
       "      <td>22.0</td>\n",
       "      <td>26.835752</td>\n",
       "      <td>26.201205</td>\n",
       "      <td>0.220000</td>\n",
       "      <td>12.2300</td>\n",
       "      <td>19.360</td>\n",
       "      <td>33.157500</td>\n",
       "      <td>130.32000</td>\n",
       "      <td>22.0</td>\n",
       "      <td>0.107791</td>\n",
       "      <td>...</td>\n",
       "      <td>1.0</td>\n",
       "      <td>1.0</td>\n",
       "      <td>22.0</td>\n",
       "      <td>0.0</td>\n",
       "      <td>0.0</td>\n",
       "      <td>0.0</td>\n",
       "      <td>0.0</td>\n",
       "      <td>0.0</td>\n",
       "      <td>0.0</td>\n",
       "      <td>0.0</td>\n",
       "    </tr>\n",
       "    <tr>\n",
       "      <th>Utilities</th>\n",
       "      <td>1.0</td>\n",
       "      <td>24.590000</td>\n",
       "      <td>NaN</td>\n",
       "      <td>24.590000</td>\n",
       "      <td>24.5900</td>\n",
       "      <td>24.590</td>\n",
       "      <td>24.590000</td>\n",
       "      <td>24.59000</td>\n",
       "      <td>1.0</td>\n",
       "      <td>0.132574</td>\n",
       "      <td>...</td>\n",
       "      <td>0.0</td>\n",
       "      <td>0.0</td>\n",
       "      <td>1.0</td>\n",
       "      <td>1.0</td>\n",
       "      <td>NaN</td>\n",
       "      <td>1.0</td>\n",
       "      <td>1.0</td>\n",
       "      <td>1.0</td>\n",
       "      <td>1.0</td>\n",
       "      <td>1.0</td>\n",
       "    </tr>\n",
       "  </tbody>\n",
       "</table>\n",
       "<p>11 rows × 104 columns</p>\n",
       "</div>"
      ],
      "text/plain": [
       "                          P0                                              \\\n",
       "                       count        mean         std        min      25%   \n",
       "Sector                                                                     \n",
       "Communication Services  19.0   55.705263  107.955961   0.710000  18.9800   \n",
       "Consumer Discretionary  29.0   33.499310   28.015087   0.040000  12.1900   \n",
       "Consumer Staples         2.0   38.720000   19.063599  25.240000  31.9800   \n",
       "Energy                  23.0   35.434441   53.965615   5.900000  15.1250   \n",
       "Financials              13.0  102.020648  270.295563   3.168418  20.3600   \n",
       "Healthcare              15.0   54.008900   72.043535   2.530000  14.1900   \n",
       "Industrials             22.0   33.114029   43.579876   1.881743  10.8525   \n",
       "Information Technology  12.0   27.972500   24.008847   2.800000  11.0450   \n",
       "Materials               18.0   21.921951   17.918109   0.118000   7.1525   \n",
       "Real Estate             22.0   26.835752   26.201205   0.220000  12.2300   \n",
       "Utilities                1.0   24.590000         NaN  24.590000  24.5900   \n",
       "\n",
       "                                                       \\\n",
       "                           50%        75%         max   \n",
       "Sector                                                  \n",
       "Communication Services  28.090  50.065000   495.81000   \n",
       "Consumer Discretionary  24.920  42.950000   123.16000   \n",
       "Consumer Staples        38.720  45.460000    52.20000   \n",
       "Energy                  20.900  33.271075   273.20000   \n",
       "Financials              25.240  36.300000  1000.00000   \n",
       "Healthcare              27.940  52.330000   282.05448   \n",
       "Industrials             22.695  34.925000   208.20000   \n",
       "Information Technology  19.335  43.235000    81.32000   \n",
       "Materials               22.215  31.787500    63.66000   \n",
       "Real Estate             19.360  33.157500   130.32000   \n",
       "Utilities               24.590  24.590000    24.59000   \n",
       "\n",
       "                       1-Year_Return_As_Decimal            ... Real Estate  \\\n",
       "                                          count      mean  ...         75%   \n",
       "Sector                                                     ...               \n",
       "Communication Services                     19.0  0.194588  ...         0.0   \n",
       "Consumer Discretionary                     29.0  0.111667  ...         0.0   \n",
       "Consumer Staples                            2.0  0.360382  ...         0.0   \n",
       "Energy                                     23.0 -0.114267  ...         0.0   \n",
       "Financials                                 13.0 -0.112256  ...         0.0   \n",
       "Healthcare                                 15.0  0.302348  ...         0.0   \n",
       "Industrials                                22.0  0.087097  ...         0.0   \n",
       "Information Technology                     12.0  0.188149  ...         0.0   \n",
       "Materials                                  18.0  0.248076  ...         0.0   \n",
       "Real Estate                                22.0  0.107791  ...         1.0   \n",
       "Utilities                                   1.0  0.132574  ...         0.0   \n",
       "\n",
       "                            Utilities                                     \n",
       "                        max     count mean  std  min  25%  50%  75%  max  \n",
       "Sector                                                                    \n",
       "Communication Services  0.0      19.0  0.0  0.0  0.0  0.0  0.0  0.0  0.0  \n",
       "Consumer Discretionary  0.0      29.0  0.0  0.0  0.0  0.0  0.0  0.0  0.0  \n",
       "Consumer Staples        0.0       2.0  0.0  0.0  0.0  0.0  0.0  0.0  0.0  \n",
       "Energy                  0.0      23.0  0.0  0.0  0.0  0.0  0.0  0.0  0.0  \n",
       "Financials              0.0      13.0  0.0  0.0  0.0  0.0  0.0  0.0  0.0  \n",
       "Healthcare              0.0      15.0  0.0  0.0  0.0  0.0  0.0  0.0  0.0  \n",
       "Industrials             0.0      22.0  0.0  0.0  0.0  0.0  0.0  0.0  0.0  \n",
       "Information Technology  0.0      12.0  0.0  0.0  0.0  0.0  0.0  0.0  0.0  \n",
       "Materials               0.0      18.0  0.0  0.0  0.0  0.0  0.0  0.0  0.0  \n",
       "Real Estate             1.0      22.0  0.0  0.0  0.0  0.0  0.0  0.0  0.0  \n",
       "Utilities               0.0       1.0  1.0  NaN  1.0  1.0  1.0  1.0  1.0  \n",
       "\n",
       "[11 rows x 104 columns]"
      ]
     },
     "execution_count": 143,
     "metadata": {},
     "output_type": "execute_result"
    }
   ],
   "source": [
    "real_deal_df.groupby('Sector').describe()"
   ]
  },
  {
   "cell_type": "code",
   "execution_count": 145,
   "metadata": {},
   "outputs": [
    {
     "data": {
      "text/html": [
       "<div>\n",
       "<style scoped>\n",
       "    .dataframe tbody tr th:only-of-type {\n",
       "        vertical-align: middle;\n",
       "    }\n",
       "\n",
       "    .dataframe tbody tr th {\n",
       "        vertical-align: top;\n",
       "    }\n",
       "\n",
       "    .dataframe thead th {\n",
       "        text-align: right;\n",
       "    }\n",
       "</style>\n",
       "<table border=\"1\" class=\"dataframe\">\n",
       "  <thead>\n",
       "    <tr style=\"text-align: right;\">\n",
       "      <th></th>\n",
       "      <th>Spinoff_Name</th>\n",
       "      <th>Spinoff_Ticker</th>\n",
       "      <th>Sector</th>\n",
       "      <th>P0</th>\n",
       "      <th>1-Year_Return_As_Decimal</th>\n",
       "      <th>Insiders_Buy_Sell_Margin_by_Value</th>\n",
       "      <th>P0_Bucket</th>\n",
       "      <th>Consumer Discretionary</th>\n",
       "      <th>Consumer Staples</th>\n",
       "      <th>Energy</th>\n",
       "      <th>Financials</th>\n",
       "      <th>Healthcare</th>\n",
       "      <th>Industrials</th>\n",
       "      <th>Information Technology</th>\n",
       "      <th>Materials</th>\n",
       "      <th>Real Estate</th>\n",
       "      <th>Utilities</th>\n",
       "      <th>Decision</th>\n",
       "    </tr>\n",
       "  </thead>\n",
       "  <tbody>\n",
       "    <tr>\n",
       "      <th>0</th>\n",
       "      <td>Adapteo</td>\n",
       "      <td>ADAPT:ST</td>\n",
       "      <td>Real Estate</td>\n",
       "      <td>11.99655</td>\n",
       "      <td>1.189817</td>\n",
       "      <td>-1181578.5</td>\n",
       "      <td>Low</td>\n",
       "      <td>0</td>\n",
       "      <td>0</td>\n",
       "      <td>0</td>\n",
       "      <td>0</td>\n",
       "      <td>0</td>\n",
       "      <td>0</td>\n",
       "      <td>0</td>\n",
       "      <td>0</td>\n",
       "      <td>1</td>\n",
       "      <td>0</td>\n",
       "      <td>Good</td>\n",
       "    </tr>\n",
       "    <tr>\n",
       "      <th>1</th>\n",
       "      <td>IAA</td>\n",
       "      <td>IAA</td>\n",
       "      <td>Industrials</td>\n",
       "      <td>43.68000</td>\n",
       "      <td>0.230540</td>\n",
       "      <td>-22050.0</td>\n",
       "      <td>High</td>\n",
       "      <td>0</td>\n",
       "      <td>0</td>\n",
       "      <td>0</td>\n",
       "      <td>0</td>\n",
       "      <td>0</td>\n",
       "      <td>1</td>\n",
       "      <td>0</td>\n",
       "      <td>0</td>\n",
       "      <td>0</td>\n",
       "      <td>0</td>\n",
       "      <td>Good</td>\n",
       "    </tr>\n",
       "    <tr>\n",
       "      <th>2</th>\n",
       "      <td>Corteva</td>\n",
       "      <td>CTVA</td>\n",
       "      <td>Materials</td>\n",
       "      <td>25.43000</td>\n",
       "      <td>0.756193</td>\n",
       "      <td>401419.0</td>\n",
       "      <td>Mid</td>\n",
       "      <td>0</td>\n",
       "      <td>0</td>\n",
       "      <td>0</td>\n",
       "      <td>0</td>\n",
       "      <td>0</td>\n",
       "      <td>0</td>\n",
       "      <td>0</td>\n",
       "      <td>1</td>\n",
       "      <td>0</td>\n",
       "      <td>0</td>\n",
       "      <td>Good</td>\n",
       "    </tr>\n",
       "    <tr>\n",
       "      <th>3</th>\n",
       "      <td>Kontoor Brands</td>\n",
       "      <td>KTB</td>\n",
       "      <td>Consumer Discretionary</td>\n",
       "      <td>15.91000</td>\n",
       "      <td>3.027027</td>\n",
       "      <td>-490071.0</td>\n",
       "      <td>Mid</td>\n",
       "      <td>1</td>\n",
       "      <td>0</td>\n",
       "      <td>0</td>\n",
       "      <td>0</td>\n",
       "      <td>0</td>\n",
       "      <td>0</td>\n",
       "      <td>0</td>\n",
       "      <td>0</td>\n",
       "      <td>0</td>\n",
       "      <td>0</td>\n",
       "      <td>Good</td>\n",
       "    </tr>\n",
       "    <tr>\n",
       "      <th>4</th>\n",
       "      <td>Alcon</td>\n",
       "      <td>ALC</td>\n",
       "      <td>Healthcare</td>\n",
       "      <td>52.54000</td>\n",
       "      <td>0.366388</td>\n",
       "      <td>19723.0</td>\n",
       "      <td>High</td>\n",
       "      <td>0</td>\n",
       "      <td>0</td>\n",
       "      <td>0</td>\n",
       "      <td>0</td>\n",
       "      <td>1</td>\n",
       "      <td>0</td>\n",
       "      <td>0</td>\n",
       "      <td>0</td>\n",
       "      <td>0</td>\n",
       "      <td>0</td>\n",
       "      <td>Good</td>\n",
       "    </tr>\n",
       "  </tbody>\n",
       "</table>\n",
       "</div>"
      ],
      "text/plain": [
       "     Spinoff_Name Spinoff_Ticker                  Sector        P0  \\\n",
       "0         Adapteo       ADAPT:ST             Real Estate  11.99655   \n",
       "1             IAA            IAA             Industrials  43.68000   \n",
       "2         Corteva           CTVA               Materials  25.43000   \n",
       "3  Kontoor Brands            KTB  Consumer Discretionary  15.91000   \n",
       "4           Alcon            ALC              Healthcare  52.54000   \n",
       "\n",
       "   1-Year_Return_As_Decimal  Insiders_Buy_Sell_Margin_by_Value P0_Bucket  \\\n",
       "0                  1.189817                         -1181578.5       Low   \n",
       "1                  0.230540                           -22050.0      High   \n",
       "2                  0.756193                           401419.0       Mid   \n",
       "3                  3.027027                          -490071.0       Mid   \n",
       "4                  0.366388                            19723.0      High   \n",
       "\n",
       "   Consumer Discretionary  Consumer Staples  Energy  Financials  Healthcare  \\\n",
       "0                       0                 0       0           0           0   \n",
       "1                       0                 0       0           0           0   \n",
       "2                       0                 0       0           0           0   \n",
       "3                       1                 0       0           0           0   \n",
       "4                       0                 0       0           0           1   \n",
       "\n",
       "   Industrials  Information Technology  Materials  Real Estate  Utilities  \\\n",
       "0            0                       0          0            1          0   \n",
       "1            1                       0          0            0          0   \n",
       "2            0                       0          1            0          0   \n",
       "3            0                       0          0            0          0   \n",
       "4            0                       0          0            0          0   \n",
       "\n",
       "  Decision  \n",
       "0     Good  \n",
       "1     Good  \n",
       "2     Good  \n",
       "3     Good  \n",
       "4     Good  "
      ]
     },
     "execution_count": 145,
     "metadata": {},
     "output_type": "execute_result"
    }
   ],
   "source": [
    "real_deal_df.head()"
   ]
  },
  {
   "cell_type": "code",
   "execution_count": 146,
   "metadata": {},
   "outputs": [
    {
     "data": {
      "text/plain": [
       "Sector\n",
       "Communication Services    0.631579\n",
       "Consumer Discretionary    0.413793\n",
       "Consumer Staples          1.000000\n",
       "Energy                    0.434783\n",
       "Financials                0.153846\n",
       "Healthcare                0.600000\n",
       "Industrials               0.500000\n",
       "Information Technology    0.583333\n",
       "Materials                 0.444444\n",
       "Real Estate               0.500000\n",
       "Utilities                 1.000000\n",
       "Name: Decision, dtype: float64"
      ]
     },
     "execution_count": 146,
     "metadata": {},
     "output_type": "execute_result"
    }
   ],
   "source": [
    "#Probability that the average spinoff in a given sector will be a good investment\n",
    "real_deal_df[real_deal_df['Decision']=='Good'].groupby('Sector')['Decision'].count() / real_deal_df.groupby('Sector')['Decision'].count()"
   ]
  },
  {
   "cell_type": "code",
   "execution_count": 15,
   "metadata": {},
   "outputs": [],
   "source": [
    "#Create dictionary to feed dataframe below\n",
    "dict = {'Communication Services':.631579,'Consumer Discretionary':.413793,'Consumer Staples':1,'Energy':.434783,'Financials':.153846,\n",
    "       'Healthcare':.562500,'Industrials':.5,'Information Technology':.583333,'Materials':.444444,'Real Estate':.5,'Utilities':1}"
   ]
  },
  {
   "cell_type": "code",
   "execution_count": 16,
   "metadata": {},
   "outputs": [],
   "source": [
    "#Create dataframe to show likelihood of good investment in each sector\n",
    "#with no additional noise\n",
    "prob_df = pd.DataFrame.from_dict(dict,orient='index')"
   ]
  },
  {
   "cell_type": "code",
   "execution_count": 17,
   "metadata": {},
   "outputs": [],
   "source": [
    "prob_df.columns = ['Likelihood_of_Good_Investment']"
   ]
  },
  {
   "cell_type": "code",
   "execution_count": 18,
   "metadata": {},
   "outputs": [],
   "source": [
    "prob_df = prob_df.sort_values('Likelihood_of_Good_Investment',ascending=False)"
   ]
  },
  {
   "cell_type": "code",
   "execution_count": 20,
   "metadata": {},
   "outputs": [
    {
     "data": {
      "image/png": "[encoded data removed]",
      "text/plain": [
       "<Figure size 1440x648 with 1 Axes>"
      ]
     },
     "metadata": {
      "needs_background": "light"
     },
     "output_type": "display_data"
    }
   ],
   "source": [
    "plt.figure(figsize=(20,9))\n",
    "plt.title('Probability of Good Investment in Each Sector',fontsize=25)\n",
    "prob_sector = prob_df['Likelihood_of_Good_Investment'].plot(kind='bar')\n",
    "\n",
    "for each in prob_sector.patches:\n",
    "    prob_sector.annotate(format(each.get_height(), '.2f'),\n",
    "                   (each.get_x() + each.get_width() / 2,\n",
    "                   each.get_height()),ha='center',va='center',\n",
    "                   size=20, xytext=(0,-10),\n",
    "                   textcoords='offset points')\n",
    "plt.xticks(fontsize=14,rotation=65)\n",
    "plt.show()"
   ]
  },
  {
   "cell_type": "code",
   "execution_count": 25,
   "metadata": {},
   "outputs": [
    {
     "data": {
      "image/png": "[encoded data removed]",
      "text/plain": [
       "<Figure size 1440x504 with 1 Axes>"
      ]
     },
     "metadata": {
      "needs_background": "light"
     },
     "output_type": "display_data"
    }
   ],
   "source": [
    "#Create visual for average return in each sector\n",
    "plt.figure(figsize=(20,7))\n",
    "plt.title('Average Return in Each Sector',fontsize=25)\n",
    "\n",
    "sorted_avg_return_by_sector = real_deal_df.groupby('Sector').describe()['1-Year_Return_As_Decimal']['mean'].sort_values(ascending=False)\n",
    "sorted_return_plot = sorted_avg_return_by_sector.plot(kind='bar')\n",
    "\n",
    "for each in sorted_return_plot.patches:\n",
    "    sorted_return_plot.annotate(format(each.get_height(), '.2f'),\n",
    "                   (each.get_x() + each.get_width() / 2,\n",
    "                   each.get_height()),ha='center',va='center',\n",
    "                   size=20, xytext=(0,-12),\n",
    "                   textcoords='offset points')\n",
    "\n",
    "plt.xticks(fontsize=14,rotation=65)\n",
    "plt.xlabel(s='',fontsize=17)    \n",
    "plt.grid()\n",
    "plt.show()"
   ]
  },
  {
   "cell_type": "code",
   "execution_count": 42,
   "metadata": {},
   "outputs": [
    {
     "data": {
      "image/png": "[encoded data removed]",
      "text/plain": [
       "<Figure size 1440x504 with 1 Axes>"
      ]
     },
     "metadata": {
      "needs_background": "light"
     },
     "output_type": "display_data"
    }
   ],
   "source": [
    "#Visualize average return for good vs bad investments\n",
    "avg_return_good_and_bad = real_deal_df.groupby('Decision').describe()['1-Year_Return_As_Decimal']['mean']\n",
    "plt.figure(figsize=(20,7))\n",
    "plt.title('Average Return for Good vs Bad Investments',fontsize=25)\n",
    "avg_return_good_and_bad_plot = avg_return_good_and_bad.plot(kind='bar')\n",
    "\n",
    "for each in avg_return_good_and_bad_plot.patches:\n",
    "    avg_return_good_and_bad_plot.annotate(format(each.get_height(), '.2f'),\n",
    "                   (each.get_x() + each.get_width() / 2,\n",
    "                   each.get_height()),ha='center',va='center',\n",
    "                   size=20, xytext=(0,-12),\n",
    "                   textcoords='offset points')\n",
    "\n",
    "plt.xlabel(s='Investment Type',fontsize=18) \n",
    "plt.xticks(fontsize=15,rotation=65)\n",
    "plt.grid()\n",
    "plt.show()"
   ]
  },
  {
   "cell_type": "code",
   "execution_count": 180,
   "metadata": {},
   "outputs": [
    {
     "data": {
      "text/plain": [
       "167"
      ]
     },
     "execution_count": 180,
     "metadata": {},
     "output_type": "execute_result"
    }
   ],
   "source": [
    "#Stocks priced at 100 or less\n",
    "real_deal_df[real_deal_df['P0']<=100].count()['Spinoff_Name']"
   ]
  },
  {
   "cell_type": "code",
   "execution_count": 183,
   "metadata": {},
   "outputs": [
    {
     "data": {
      "text/plain": [
       "176"
      ]
     },
     "execution_count": 183,
     "metadata": {},
     "output_type": "execute_result"
    }
   ],
   "source": [
    "#Total stocks in final data set\n",
    "real_deal_df['Spinoff_Name'].count()"
   ]
  },
  {
   "cell_type": "code",
   "execution_count": 185,
   "metadata": {},
   "outputs": [
    {
     "data": {
      "text/plain": [
       "81"
      ]
     },
     "execution_count": 185,
     "metadata": {},
     "output_type": "execute_result"
    }
   ],
   "source": [
    "#Stocks priced at 100 or less and had a return of at least 10%\n",
    "real_deal_df[(real_deal_df['P0']<=100) & (real_deal_df['1-Year_Return_As_Decimal']>=.1)].count()['Spinoff_Name']"
   ]
  },
  {
   "cell_type": "code",
   "execution_count": 187,
   "metadata": {},
   "outputs": [
    {
     "data": {
      "text/plain": [
       "0.5461109409506173"
      ]
     },
     "execution_count": 187,
     "metadata": {},
     "output_type": "execute_result"
    }
   ],
   "source": [
    "#Average return for stocks that are affordable and good investments\n",
    "real_deal_df[(real_deal_df['P0']<=100) & (real_deal_df['1-Year_Return_As_Decimal']>=.1)]['1-Year_Return_As_Decimal'].mean()\n",
    "#Average return for stocks that are affordable and good investments is 55%!!! That would be an exceptional annual return every year"
   ]
  },
  {
   "cell_type": "code",
   "execution_count": 186,
   "metadata": {},
   "outputs": [
    {
     "data": {
      "text/plain": [
       "0.4602272727272727"
      ]
     },
     "execution_count": 186,
     "metadata": {},
     "output_type": "execute_result"
    }
   ],
   "source": [
    "#The real cream of the crop make up 46% of the data set. That's a pretty good sized subset for an area of stocks\n",
    "#that is traditionally very niche and can be tricky to understand\n",
    "real_deal_df[(real_deal_df['P0']<=100) & (real_deal_df['1-Year_Return_As_Decimal']>=.1)].count()['Spinoff_Name'] / real_deal_df['Spinoff_Name'].count()"
   ]
  },
  {
   "cell_type": "code",
   "execution_count": null,
   "metadata": {},
   "outputs": [],
   "source": [
    "#Metrics and Visuals for Data Analysis\n",
    "#Split of investments into price point buckets -- check\n",
    "#Total good investments vs bad -- check\n",
    "#Probability of good investment on average per sector -- check\n",
    "#Average return per sector -- check\n",
    "#Average return for good vs bad investments -- check\n",
    "#How many initial prices were under $100 USD? -- check"
   ]
  }
 ],
 "metadata": {
  "kernelspec": {
   "display_name": "Python 3",
   "language": "python",
   "name": "python3"
  },
  "language_info": {
   "codemirror_mode": {
    "name": "ipython",
    "version": 3
   },
   "file_extension": ".py",
   "mimetype": "text/x-python",
   "name": "python",
   "nbconvert_exporter": "python",
   "pygments_lexer": "ipython3",
   "version": "3.7.0"
  }
 },
 "nbformat": 4,
 "nbformat_minor": 5
}
